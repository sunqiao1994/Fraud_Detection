{
 "cells": [
  {
   "cell_type": "code",
   "execution_count": 1,
   "id": "c607aff5",
   "metadata": {},
   "outputs": [],
   "source": [
    "pip install -U imbalanced-learn"
   ]
  },
  {
   "cell_type": "code",
   "execution_count": 1,
   "id": "87c34cbd",
   "metadata": {},
   "outputs": [],
   "source": [
    "# Imports\n",
    "\n",
    "import glob\n",
    "import string\n",
    "import ast\n",
    "\n",
    "# pandas\n",
    "import pandas as pd\n",
    "from pandas import Series,DataFrame\n",
    "\n",
    "# numpy, matplotlib, seaborn\n",
    "import numpy as np\n",
    "from scipy import interp\n",
    "from itertools import cycle\n",
    "import matplotlib.pyplot as plt\n",
    "import seaborn as sns\n",
    "sns.set_style('whitegrid')\n",
    "%matplotlib inline\n",
    "\n",
    "# machine learning\n",
    "from sklearn import datasets\n",
    "from sklearn.linear_model import LogisticRegression\n",
    "from sklearn.ensemble import RandomForestClassifier\n",
    "from sklearn.model_selection import StratifiedKFold\n",
    "from sklearn.feature_selection import RFECV\n",
    "from sklearn.tree import DecisionTreeClassifier, export_graphviz \n",
    "from sklearn.ensemble import ExtraTreesClassifier, VotingClassifier\n",
    "from sklearn.preprocessing import StandardScaler\n",
    "from sklearn.neural_network import MLPClassifier\n",
    "\n",
    "#metrics\n",
    "from sklearn.model_selection import train_test_split\n",
    "from sklearn.metrics import make_scorer, accuracy_score, confusion_matrix, f1_score, recall_score, confusion_matrix\n",
    "from sklearn.metrics import precision_recall_fscore_support, classification_report\n",
    "from sklearn.model_selection import GridSearchCV, cross_val_score\n",
    "from sklearn.metrics import roc_curve, auc\n",
    "from sklearn.model_selection import StratifiedKFold\n",
    "from sklearn.metrics import average_precision_score, precision_recall_curve\n",
    "from sklearn.metrics import auc, plot_precision_recall_curve\n",
    "\n"
   ]
  },
  {
   "cell_type": "code",
   "execution_count": 2,
   "id": "252fdac0",
   "metadata": {},
   "outputs": [
    {
     "name": "stdout",
     "output_type": "stream",
     "text": [
      "            Time         V1         V2        V3        V4        V5  \\\n",
      "0            0.0  -1.359807  -0.072781  2.536347  1.378155 -0.338321   \n",
      "1            0.0   1.191857   0.266151  0.166480  0.448154  0.060018   \n",
      "2            1.0  -1.358354  -1.340163  1.773209  0.379780 -0.503198   \n",
      "3            1.0  -0.966272  -0.185226  1.792993 -0.863291 -0.010309   \n",
      "4            2.0  -1.158233   0.877737  1.548718  0.403034 -0.407193   \n",
      "...          ...        ...        ...       ...       ...       ...   \n",
      "284802  172786.0 -11.881118  10.071785 -9.834783 -2.066656 -5.364473   \n",
      "284803  172787.0  -0.732789  -0.055080  2.035030 -0.738589  0.868229   \n",
      "284804  172788.0   1.919565  -0.301254 -3.249640 -0.557828  2.630515   \n",
      "284805  172788.0  -0.240440   0.530483  0.702510  0.689799 -0.377961   \n",
      "284806  172792.0  -0.533413  -0.189733  0.703337 -0.506271 -0.012546   \n",
      "\n",
      "              V6        V7        V8        V9  ...       V21       V22  \\\n",
      "0       0.462388  0.239599  0.098698  0.363787  ... -0.018307  0.277838   \n",
      "1      -0.082361 -0.078803  0.085102 -0.255425  ... -0.225775 -0.638672   \n",
      "2       1.800499  0.791461  0.247676 -1.514654  ...  0.247998  0.771679   \n",
      "3       1.247203  0.237609  0.377436 -1.387024  ... -0.108300  0.005274   \n",
      "4       0.095921  0.592941 -0.270533  0.817739  ... -0.009431  0.798278   \n",
      "...          ...       ...       ...       ...  ...       ...       ...   \n",
      "284802 -2.606837 -4.918215  7.305334  1.914428  ...  0.213454  0.111864   \n",
      "284803  1.058415  0.024330  0.294869  0.584800  ...  0.214205  0.924384   \n",
      "284804  3.031260 -0.296827  0.708417  0.432454  ...  0.232045  0.578229   \n",
      "284805  0.623708 -0.686180  0.679145  0.392087  ...  0.265245  0.800049   \n",
      "284806 -0.649617  1.577006 -0.414650  0.486180  ...  0.261057  0.643078   \n",
      "\n",
      "             V23       V24       V25       V26       V27       V28  Amount  \\\n",
      "0      -0.110474  0.066928  0.128539 -0.189115  0.133558 -0.021053  149.62   \n",
      "1       0.101288 -0.339846  0.167170  0.125895 -0.008983  0.014724    2.69   \n",
      "2       0.909412 -0.689281 -0.327642 -0.139097 -0.055353 -0.059752  378.66   \n",
      "3      -0.190321 -1.175575  0.647376 -0.221929  0.062723  0.061458  123.50   \n",
      "4      -0.137458  0.141267 -0.206010  0.502292  0.219422  0.215153   69.99   \n",
      "...          ...       ...       ...       ...       ...       ...     ...   \n",
      "284802  1.014480 -0.509348  1.436807  0.250034  0.943651  0.823731    0.77   \n",
      "284803  0.012463 -1.016226 -0.606624 -0.395255  0.068472 -0.053527   24.79   \n",
      "284804 -0.037501  0.640134  0.265745 -0.087371  0.004455 -0.026561   67.88   \n",
      "284805 -0.163298  0.123205 -0.569159  0.546668  0.108821  0.104533   10.00   \n",
      "284806  0.376777  0.008797 -0.473649 -0.818267 -0.002415  0.013649  217.00   \n",
      "\n",
      "        Class  \n",
      "0           0  \n",
      "1           0  \n",
      "2           0  \n",
      "3           0  \n",
      "4           0  \n",
      "...       ...  \n",
      "284802      0  \n",
      "284803      0  \n",
      "284804      0  \n",
      "284805      0  \n",
      "284806      0  \n",
      "\n",
      "[284807 rows x 31 columns]\n"
     ]
    }
   ],
   "source": [
    "# import CC_Fraud from your computer, you need to change your source...\n",
    "\n",
    "df = pd.read_csv (r'/Users/sunqiaoyubing/Downloads/CC_Fraud.csv')\n",
    "print(df)"
   ]
  },
  {
   "cell_type": "code",
   "execution_count": 3,
   "id": "66ad7418",
   "metadata": {},
   "outputs": [],
   "source": [
    "from pandas import DataFrame\n",
    "X_all = df.drop(['Class'], axis=1)\n",
    "y_all = df['Class']"
   ]
  },
  {
   "cell_type": "code",
   "execution_count": 4,
   "id": "f5dc10a1",
   "metadata": {},
   "outputs": [
    {
     "name": "stdout",
     "output_type": "stream",
     "text": [
      "% Positive class in Train = 0.17\n",
      "% Positive class in Test  = 0.2\n"
     ]
    }
   ],
   "source": [
    "from sklearn.model_selection import train_test_split\n",
    "X_train, X_test, y_train, y_test = train_test_split(\n",
    "    X_all, y_all, test_size=0.2, random_state=25\n",
    ")\n",
    "\n",
    "print(f'''% Positive class in Train = {np.round(y_train.value_counts(normalize=True)[1] * 100, 2)}\n",
    "% Positive class in Test  = {np.round(y_test.value_counts(normalize=True)[1] * 100, 2)}''')"
   ]
  },
  {
   "cell_type": "code",
   "execution_count": 5,
   "id": "47ef08fe",
   "metadata": {},
   "outputs": [
    {
     "name": "stdout",
     "output_type": "stream",
     "text": [
      "Shape of X before ROSE: (284807, 30)\n",
      "Shape of X after ROSE: (568630, 30)\n",
      "\n",
      "Balance of positive and negative classes (%):\n"
     ]
    },
    {
     "data": {
      "text/plain": [
       "0    50.0\n",
       "1    50.0\n",
       "Name: Class, dtype: float64"
      ]
     },
     "execution_count": 5,
     "metadata": {},
     "output_type": "execute_result"
    }
   ],
   "source": [
    "##Apply ROSE\n",
    "\n",
    "from imblearn.over_sampling import RandomOverSampler\n",
    "\n",
    "sampler = RandomOverSampler(random_state=0)\n",
    "\n",
    "X_sampler, y_sampler = sampler.fit_resample(X_all, y_all)\n",
    "\n",
    "print(f'''Shape of X before ROSE: {X_all.shape}\n",
    "Shape of X after ROSE: {X_sampler.shape}''')\n",
    "\n",
    "print('\\nBalance of positive and negative classes (%):')\n",
    "y_sampler.value_counts(normalize=True) * 100"
   ]
  },
  {
   "cell_type": "code",
   "execution_count": 6,
   "id": "07bb0429",
   "metadata": {},
   "outputs": [],
   "source": [
    "X_train, X_test, y_train, y_test = train_test_split(\n",
    "  X_sampler, y_sampler, test_size=0.2, random_state=25)"
   ]
  },
  {
   "cell_type": "markdown",
   "id": "34bafacb",
   "metadata": {},
   "source": [
    "# Modelling\n",
    "## Logistic Regression All-ROSE\n"
   ]
  },
  {
   "cell_type": "code",
   "execution_count": 12,
   "id": "577e267e",
   "metadata": {},
   "outputs": [
    {
     "name": "stdout",
     "output_type": "stream",
     "text": [
      "Optimization terminated successfully.\n",
      "         Current function value: 0.078224\n",
      "         Iterations 15\n",
      "                          Results: Logit\n",
      "==================================================================\n",
      "Model:              Logit            Pseudo R-squared: 0.887      \n",
      "Dependent Variable: Class            AIC:              71228.4300 \n",
      "Date:               2022-04-25 00:43 BIC:              71559.2653 \n",
      "No. Observations:   454904           Log-Likelihood:   -35584.    \n",
      "Df Model:           29               LL-Null:          -3.1531e+05\n",
      "Df Residuals:       454874           LLR p-value:      0.0000     \n",
      "Converged:          1.0000           Scale:            1.0000     \n",
      "No. Iterations:     15.0000                                       \n",
      "--------------------------------------------------------------------\n",
      "          Coef.    Std.Err.       z       P>|z|     [0.025    0.975]\n",
      "--------------------------------------------------------------------\n",
      "Time     -0.0000     0.0000   -182.5402   0.0000   -0.0000   -0.0000\n",
      "V1        0.3110     0.0127     24.4390   0.0000    0.2861    0.3359\n",
      "V2       -0.5454     0.0192    -28.4710   0.0000   -0.5830   -0.5079\n",
      "V3       -0.9950     0.0121    -82.0486   0.0000   -1.0187   -0.9712\n",
      "V4        1.0307     0.0096    106.8723   0.0000    1.0118    1.0496\n",
      "V5       -0.0349     0.0126     -2.7680   0.0056   -0.0596   -0.0102\n",
      "V6       -0.1682     0.0106    -15.8121   0.0000   -0.1891   -0.1474\n",
      "V7        0.0509     0.0204      2.4988   0.0125    0.0110    0.0908\n",
      "V8       -0.7057     0.0143    -49.3424   0.0000   -0.7338   -0.6777\n",
      "V9       -0.7277     0.0146    -49.8869   0.0000   -0.7562   -0.6991\n",
      "V10      -1.2250     0.0203    -60.4679   0.0000   -1.2647   -1.1853\n",
      "V11       0.5221     0.0135     38.5566   0.0000    0.4955    0.5486\n",
      "V12      -1.5084     0.0191    -78.8958   0.0000   -1.5458   -1.4709\n",
      "V13      -0.4373     0.0102    -42.7041   0.0000   -0.4574   -0.4173\n",
      "V14      -2.1100     0.0196   -107.6394   0.0000   -2.1484   -2.0716\n",
      "V15      -0.4575     0.0113    -40.4252   0.0000   -0.4797   -0.4353\n",
      "V16      -1.0118     0.0195    -51.9313   0.0000   -1.0500   -0.9736\n",
      "V17      -2.0164     0.0282    -71.3826   0.0000   -2.0718   -1.9611\n",
      "V18      -0.3407     0.0175    -19.4790   0.0000   -0.3750   -0.3064\n",
      "V19       0.3322     0.0135     24.6827   0.0000    0.3059    0.3586\n",
      "V20       0.4133     0.0205     20.1491   0.0000    0.3731    0.4535\n",
      "V21       0.4969     0.0132     37.6545   0.0000    0.4711    0.5228\n",
      "V22       0.7330     0.0175     41.9936   0.0000    0.6988    0.7672\n",
      "V23      -0.2146     0.0151    -14.2379   0.0000   -0.2441   -0.1850\n",
      "V24       0.2450     0.0192     12.7814   0.0000    0.2074    0.2825\n",
      "V25      -1.1018     0.0220    -50.0626   0.0000   -1.1450   -1.0587\n",
      "V26      -0.0778     0.0233     -3.3368   0.0008   -0.1234   -0.0321\n",
      "V27       0.7594     0.0349     21.7639   0.0000    0.6911    0.8278\n",
      "V28       0.5551     0.0317     17.5053   0.0000    0.4930    0.6173\n",
      "Amount   -0.0040     0.0001    -30.5712   0.0000   -0.0042   -0.0037\n",
      "==================================================================\n",
      "\n"
     ]
    }
   ],
   "source": [
    "#logistics regression 1\n",
    "import statsmodels.api as sm\n",
    "logit_model=sm.Logit(y_train,X_train)\n",
    "result=logit_model.fit()\n",
    "print(result.summary2())"
   ]
  },
  {
   "cell_type": "code",
   "execution_count": 13,
   "id": "05778141",
   "metadata": {},
   "outputs": [
    {
     "name": "stderr",
     "output_type": "stream",
     "text": [
      "/Users/sunqiaoyubing/opt/anaconda3/lib/python3.8/site-packages/sklearn/linear_model/_logistic.py:814: ConvergenceWarning: lbfgs failed to converge (status=1):\n",
      "STOP: TOTAL NO. of ITERATIONS REACHED LIMIT.\n",
      "\n",
      "Increase the number of iterations (max_iter) or scale the data as shown in:\n",
      "    https://scikit-learn.org/stable/modules/preprocessing.html\n",
      "Please also refer to the documentation for alternative solver options:\n",
      "    https://scikit-learn.org/stable/modules/linear_model.html#logistic-regression\n",
      "  n_iter_i = _check_optimize_result(\n",
      "/Users/sunqiaoyubing/opt/anaconda3/lib/python3.8/site-packages/sklearn/linear_model/_logistic.py:814: ConvergenceWarning: lbfgs failed to converge (status=1):\n",
      "STOP: TOTAL NO. of ITERATIONS REACHED LIMIT.\n",
      "\n",
      "Increase the number of iterations (max_iter) or scale the data as shown in:\n",
      "    https://scikit-learn.org/stable/modules/preprocessing.html\n",
      "Please also refer to the documentation for alternative solver options:\n",
      "    https://scikit-learn.org/stable/modules/linear_model.html#logistic-regression\n",
      "  n_iter_i = _check_optimize_result(\n",
      "/Users/sunqiaoyubing/opt/anaconda3/lib/python3.8/site-packages/sklearn/linear_model/_logistic.py:814: ConvergenceWarning: lbfgs failed to converge (status=1):\n",
      "STOP: TOTAL NO. of ITERATIONS REACHED LIMIT.\n",
      "\n",
      "Increase the number of iterations (max_iter) or scale the data as shown in:\n",
      "    https://scikit-learn.org/stable/modules/preprocessing.html\n",
      "Please also refer to the documentation for alternative solver options:\n",
      "    https://scikit-learn.org/stable/modules/linear_model.html#logistic-regression\n",
      "  n_iter_i = _check_optimize_result(\n",
      "/Users/sunqiaoyubing/opt/anaconda3/lib/python3.8/site-packages/sklearn/linear_model/_logistic.py:814: ConvergenceWarning: lbfgs failed to converge (status=1):\n",
      "STOP: TOTAL NO. of ITERATIONS REACHED LIMIT.\n",
      "\n",
      "Increase the number of iterations (max_iter) or scale the data as shown in:\n",
      "    https://scikit-learn.org/stable/modules/preprocessing.html\n",
      "Please also refer to the documentation for alternative solver options:\n",
      "    https://scikit-learn.org/stable/modules/linear_model.html#logistic-regression\n",
      "  n_iter_i = _check_optimize_result(\n",
      "/Users/sunqiaoyubing/opt/anaconda3/lib/python3.8/site-packages/sklearn/linear_model/_logistic.py:814: ConvergenceWarning: lbfgs failed to converge (status=1):\n",
      "STOP: TOTAL NO. of ITERATIONS REACHED LIMIT.\n",
      "\n",
      "Increase the number of iterations (max_iter) or scale the data as shown in:\n",
      "    https://scikit-learn.org/stable/modules/preprocessing.html\n",
      "Please also refer to the documentation for alternative solver options:\n",
      "    https://scikit-learn.org/stable/modules/linear_model.html#logistic-regression\n",
      "  n_iter_i = _check_optimize_result(\n",
      "/Users/sunqiaoyubing/opt/anaconda3/lib/python3.8/site-packages/sklearn/linear_model/_logistic.py:814: ConvergenceWarning: lbfgs failed to converge (status=1):\n",
      "STOP: TOTAL NO. of ITERATIONS REACHED LIMIT.\n",
      "\n",
      "Increase the number of iterations (max_iter) or scale the data as shown in:\n",
      "    https://scikit-learn.org/stable/modules/preprocessing.html\n",
      "Please also refer to the documentation for alternative solver options:\n",
      "    https://scikit-learn.org/stable/modules/linear_model.html#logistic-regression\n",
      "  n_iter_i = _check_optimize_result(\n",
      "/Users/sunqiaoyubing/opt/anaconda3/lib/python3.8/site-packages/sklearn/linear_model/_logistic.py:814: ConvergenceWarning: lbfgs failed to converge (status=1):\n",
      "STOP: TOTAL NO. of ITERATIONS REACHED LIMIT.\n",
      "\n",
      "Increase the number of iterations (max_iter) or scale the data as shown in:\n",
      "    https://scikit-learn.org/stable/modules/preprocessing.html\n",
      "Please also refer to the documentation for alternative solver options:\n",
      "    https://scikit-learn.org/stable/modules/linear_model.html#logistic-regression\n",
      "  n_iter_i = _check_optimize_result(\n",
      "/Users/sunqiaoyubing/opt/anaconda3/lib/python3.8/site-packages/sklearn/linear_model/_logistic.py:814: ConvergenceWarning: lbfgs failed to converge (status=1):\n",
      "STOP: TOTAL NO. of ITERATIONS REACHED LIMIT.\n",
      "\n",
      "Increase the number of iterations (max_iter) or scale the data as shown in:\n",
      "    https://scikit-learn.org/stable/modules/preprocessing.html\n",
      "Please also refer to the documentation for alternative solver options:\n",
      "    https://scikit-learn.org/stable/modules/linear_model.html#logistic-regression\n",
      "  n_iter_i = _check_optimize_result(\n",
      "/Users/sunqiaoyubing/opt/anaconda3/lib/python3.8/site-packages/sklearn/linear_model/_logistic.py:814: ConvergenceWarning: lbfgs failed to converge (status=1):\n",
      "STOP: TOTAL NO. of ITERATIONS REACHED LIMIT.\n",
      "\n",
      "Increase the number of iterations (max_iter) or scale the data as shown in:\n",
      "    https://scikit-learn.org/stable/modules/preprocessing.html\n",
      "Please also refer to the documentation for alternative solver options:\n",
      "    https://scikit-learn.org/stable/modules/linear_model.html#logistic-regression\n",
      "  n_iter_i = _check_optimize_result(\n",
      "/Users/sunqiaoyubing/opt/anaconda3/lib/python3.8/site-packages/sklearn/linear_model/_logistic.py:814: ConvergenceWarning: lbfgs failed to converge (status=1):\n",
      "STOP: TOTAL NO. of ITERATIONS REACHED LIMIT.\n",
      "\n",
      "Increase the number of iterations (max_iter) or scale the data as shown in:\n",
      "    https://scikit-learn.org/stable/modules/preprocessing.html\n",
      "Please also refer to the documentation for alternative solver options:\n",
      "    https://scikit-learn.org/stable/modules/linear_model.html#logistic-regression\n",
      "  n_iter_i = _check_optimize_result(\n",
      "/Users/sunqiaoyubing/opt/anaconda3/lib/python3.8/site-packages/sklearn/linear_model/_logistic.py:814: ConvergenceWarning: lbfgs failed to converge (status=1):\n",
      "STOP: TOTAL NO. of ITERATIONS REACHED LIMIT.\n",
      "\n",
      "Increase the number of iterations (max_iter) or scale the data as shown in:\n",
      "    https://scikit-learn.org/stable/modules/preprocessing.html\n",
      "Please also refer to the documentation for alternative solver options:\n",
      "    https://scikit-learn.org/stable/modules/linear_model.html#logistic-regression\n",
      "  n_iter_i = _check_optimize_result(\n",
      "/Users/sunqiaoyubing/opt/anaconda3/lib/python3.8/site-packages/sklearn/linear_model/_logistic.py:814: ConvergenceWarning: lbfgs failed to converge (status=1):\n",
      "STOP: TOTAL NO. of ITERATIONS REACHED LIMIT.\n",
      "\n",
      "Increase the number of iterations (max_iter) or scale the data as shown in:\n",
      "    https://scikit-learn.org/stable/modules/preprocessing.html\n",
      "Please also refer to the documentation for alternative solver options:\n",
      "    https://scikit-learn.org/stable/modules/linear_model.html#logistic-regression\n",
      "  n_iter_i = _check_optimize_result(\n",
      "/Users/sunqiaoyubing/opt/anaconda3/lib/python3.8/site-packages/sklearn/linear_model/_logistic.py:814: ConvergenceWarning: lbfgs failed to converge (status=1):\n",
      "STOP: TOTAL NO. of ITERATIONS REACHED LIMIT.\n",
      "\n",
      "Increase the number of iterations (max_iter) or scale the data as shown in:\n",
      "    https://scikit-learn.org/stable/modules/preprocessing.html\n",
      "Please also refer to the documentation for alternative solver options:\n",
      "    https://scikit-learn.org/stable/modules/linear_model.html#logistic-regression\n",
      "  n_iter_i = _check_optimize_result(\n",
      "/Users/sunqiaoyubing/opt/anaconda3/lib/python3.8/site-packages/sklearn/linear_model/_logistic.py:814: ConvergenceWarning: lbfgs failed to converge (status=1):\n",
      "STOP: TOTAL NO. of ITERATIONS REACHED LIMIT.\n",
      "\n",
      "Increase the number of iterations (max_iter) or scale the data as shown in:\n",
      "    https://scikit-learn.org/stable/modules/preprocessing.html\n",
      "Please also refer to the documentation for alternative solver options:\n",
      "    https://scikit-learn.org/stable/modules/linear_model.html#logistic-regression\n",
      "  n_iter_i = _check_optimize_result(\n",
      "/Users/sunqiaoyubing/opt/anaconda3/lib/python3.8/site-packages/sklearn/linear_model/_logistic.py:814: ConvergenceWarning: lbfgs failed to converge (status=1):\n",
      "STOP: TOTAL NO. of ITERATIONS REACHED LIMIT.\n",
      "\n",
      "Increase the number of iterations (max_iter) or scale the data as shown in:\n",
      "    https://scikit-learn.org/stable/modules/preprocessing.html\n",
      "Please also refer to the documentation for alternative solver options:\n",
      "    https://scikit-learn.org/stable/modules/linear_model.html#logistic-regression\n",
      "  n_iter_i = _check_optimize_result(\n",
      "/Users/sunqiaoyubing/opt/anaconda3/lib/python3.8/site-packages/sklearn/linear_model/_logistic.py:814: ConvergenceWarning: lbfgs failed to converge (status=1):\n",
      "STOP: TOTAL NO. of ITERATIONS REACHED LIMIT.\n",
      "\n",
      "Increase the number of iterations (max_iter) or scale the data as shown in:\n",
      "    https://scikit-learn.org/stable/modules/preprocessing.html\n",
      "Please also refer to the documentation for alternative solver options:\n",
      "    https://scikit-learn.org/stable/modules/linear_model.html#logistic-regression\n",
      "  n_iter_i = _check_optimize_result(\n",
      "/Users/sunqiaoyubing/opt/anaconda3/lib/python3.8/site-packages/sklearn/linear_model/_logistic.py:814: ConvergenceWarning: lbfgs failed to converge (status=1):\n",
      "STOP: TOTAL NO. of ITERATIONS REACHED LIMIT.\n",
      "\n",
      "Increase the number of iterations (max_iter) or scale the data as shown in:\n",
      "    https://scikit-learn.org/stable/modules/preprocessing.html\n",
      "Please also refer to the documentation for alternative solver options:\n",
      "    https://scikit-learn.org/stable/modules/linear_model.html#logistic-regression\n",
      "  n_iter_i = _check_optimize_result(\n",
      "/Users/sunqiaoyubing/opt/anaconda3/lib/python3.8/site-packages/sklearn/linear_model/_logistic.py:814: ConvergenceWarning: lbfgs failed to converge (status=1):\n",
      "STOP: TOTAL NO. of ITERATIONS REACHED LIMIT.\n",
      "\n",
      "Increase the number of iterations (max_iter) or scale the data as shown in:\n",
      "    https://scikit-learn.org/stable/modules/preprocessing.html\n",
      "Please also refer to the documentation for alternative solver options:\n",
      "    https://scikit-learn.org/stable/modules/linear_model.html#logistic-regression\n",
      "  n_iter_i = _check_optimize_result(\n",
      "/Users/sunqiaoyubing/opt/anaconda3/lib/python3.8/site-packages/sklearn/linear_model/_logistic.py:814: ConvergenceWarning: lbfgs failed to converge (status=1):\n",
      "STOP: TOTAL NO. of ITERATIONS REACHED LIMIT.\n",
      "\n",
      "Increase the number of iterations (max_iter) or scale the data as shown in:\n",
      "    https://scikit-learn.org/stable/modules/preprocessing.html\n",
      "Please also refer to the documentation for alternative solver options:\n",
      "    https://scikit-learn.org/stable/modules/linear_model.html#logistic-regression\n",
      "  n_iter_i = _check_optimize_result(\n",
      "/Users/sunqiaoyubing/opt/anaconda3/lib/python3.8/site-packages/sklearn/linear_model/_logistic.py:814: ConvergenceWarning: lbfgs failed to converge (status=1):\n",
      "STOP: TOTAL NO. of ITERATIONS REACHED LIMIT.\n",
      "\n",
      "Increase the number of iterations (max_iter) or scale the data as shown in:\n",
      "    https://scikit-learn.org/stable/modules/preprocessing.html\n",
      "Please also refer to the documentation for alternative solver options:\n",
      "    https://scikit-learn.org/stable/modules/linear_model.html#logistic-regression\n",
      "  n_iter_i = _check_optimize_result(\n",
      "/Users/sunqiaoyubing/opt/anaconda3/lib/python3.8/site-packages/sklearn/linear_model/_logistic.py:814: ConvergenceWarning: lbfgs failed to converge (status=1):\n",
      "STOP: TOTAL NO. of ITERATIONS REACHED LIMIT.\n",
      "\n",
      "Increase the number of iterations (max_iter) or scale the data as shown in:\n",
      "    https://scikit-learn.org/stable/modules/preprocessing.html\n",
      "Please also refer to the documentation for alternative solver options:\n",
      "    https://scikit-learn.org/stable/modules/linear_model.html#logistic-regression\n",
      "  n_iter_i = _check_optimize_result(\n",
      "/Users/sunqiaoyubing/opt/anaconda3/lib/python3.8/site-packages/sklearn/linear_model/_logistic.py:814: ConvergenceWarning: lbfgs failed to converge (status=1):\n",
      "STOP: TOTAL NO. of ITERATIONS REACHED LIMIT.\n",
      "\n",
      "Increase the number of iterations (max_iter) or scale the data as shown in:\n",
      "    https://scikit-learn.org/stable/modules/preprocessing.html\n",
      "Please also refer to the documentation for alternative solver options:\n",
      "    https://scikit-learn.org/stable/modules/linear_model.html#logistic-regression\n",
      "  n_iter_i = _check_optimize_result(\n",
      "/Users/sunqiaoyubing/opt/anaconda3/lib/python3.8/site-packages/sklearn/linear_model/_logistic.py:814: ConvergenceWarning: lbfgs failed to converge (status=1):\n",
      "STOP: TOTAL NO. of ITERATIONS REACHED LIMIT.\n",
      "\n",
      "Increase the number of iterations (max_iter) or scale the data as shown in:\n",
      "    https://scikit-learn.org/stable/modules/preprocessing.html\n",
      "Please also refer to the documentation for alternative solver options:\n",
      "    https://scikit-learn.org/stable/modules/linear_model.html#logistic-regression\n",
      "  n_iter_i = _check_optimize_result(\n",
      "/Users/sunqiaoyubing/opt/anaconda3/lib/python3.8/site-packages/sklearn/linear_model/_logistic.py:814: ConvergenceWarning: lbfgs failed to converge (status=1):\n",
      "STOP: TOTAL NO. of ITERATIONS REACHED LIMIT.\n",
      "\n",
      "Increase the number of iterations (max_iter) or scale the data as shown in:\n",
      "    https://scikit-learn.org/stable/modules/preprocessing.html\n",
      "Please also refer to the documentation for alternative solver options:\n",
      "    https://scikit-learn.org/stable/modules/linear_model.html#logistic-regression\n",
      "  n_iter_i = _check_optimize_result(\n",
      "/Users/sunqiaoyubing/opt/anaconda3/lib/python3.8/site-packages/sklearn/linear_model/_logistic.py:814: ConvergenceWarning: lbfgs failed to converge (status=1):\n",
      "STOP: TOTAL NO. of ITERATIONS REACHED LIMIT.\n",
      "\n",
      "Increase the number of iterations (max_iter) or scale the data as shown in:\n",
      "    https://scikit-learn.org/stable/modules/preprocessing.html\n",
      "Please also refer to the documentation for alternative solver options:\n",
      "    https://scikit-learn.org/stable/modules/linear_model.html#logistic-regression\n",
      "  n_iter_i = _check_optimize_result(\n",
      "/Users/sunqiaoyubing/opt/anaconda3/lib/python3.8/site-packages/sklearn/linear_model/_logistic.py:814: ConvergenceWarning: lbfgs failed to converge (status=1):\n",
      "STOP: TOTAL NO. of ITERATIONS REACHED LIMIT.\n",
      "\n",
      "Increase the number of iterations (max_iter) or scale the data as shown in:\n",
      "    https://scikit-learn.org/stable/modules/preprocessing.html\n",
      "Please also refer to the documentation for alternative solver options:\n",
      "    https://scikit-learn.org/stable/modules/linear_model.html#logistic-regression\n",
      "  n_iter_i = _check_optimize_result(\n",
      "/Users/sunqiaoyubing/opt/anaconda3/lib/python3.8/site-packages/sklearn/model_selection/_validation.py:372: FitFailedWarning: \n",
      "70 fits failed out of a total of 140.\n",
      "The score on these train-test partitions for these parameters will be set to nan.\n",
      "If these failures are not expected, you can try to debug them by setting error_score='raise'.\n",
      "\n",
      "Below are more details about the failures:\n",
      "--------------------------------------------------------------------------------\n",
      "70 fits failed with the following error:\n",
      "Traceback (most recent call last):\n",
      "  File \"/Users/sunqiaoyubing/opt/anaconda3/lib/python3.8/site-packages/sklearn/model_selection/_validation.py\", line 680, in _fit_and_score\n",
      "    estimator.fit(X_train, y_train, **fit_params)\n",
      "  File \"/Users/sunqiaoyubing/opt/anaconda3/lib/python3.8/site-packages/sklearn/linear_model/_logistic.py\", line 1461, in fit\n",
      "    solver = _check_solver(self.solver, self.penalty, self.dual)\n",
      "  File \"/Users/sunqiaoyubing/opt/anaconda3/lib/python3.8/site-packages/sklearn/linear_model/_logistic.py\", line 447, in _check_solver\n",
      "    raise ValueError(\n",
      "ValueError: Solver lbfgs supports only 'l2' or 'none' penalties, got l1 penalty.\n",
      "\n",
      "  warnings.warn(some_fits_failed_message, FitFailedWarning)\n",
      "/Users/sunqiaoyubing/opt/anaconda3/lib/python3.8/site-packages/sklearn/model_selection/_search.py:969: UserWarning: One or more of the test scores are non-finite: [       nan 0.96581921        nan 0.96974303        nan 0.96836475\n",
      "        nan 0.96794488        nan 0.96795587        nan 0.96814272\n",
      "        nan 0.96820867]\n",
      "  warnings.warn(\n"
     ]
    },
    {
     "name": "stdout",
     "output_type": "stream",
     "text": [
      "tuned hpyerparameters :(best parameters)  {'C': 0.01, 'penalty': 'l2'}\n",
      "accuracy : 0.9697430344047191\n"
     ]
    }
   ],
   "source": [
    "# Grid search cross validation\n",
    "from sklearn.model_selection import GridSearchCV\n",
    "from sklearn.linear_model import LogisticRegression\n",
    "grid={\"C\":np.logspace(-3,3,7), \"penalty\":[\"l1\",\"l2\"]}# l1 lasso l2 ridge\n",
    "logreg=LogisticRegression()\n",
    "logreg_cv=GridSearchCV(logreg,grid,cv=10)\n",
    "logreg_cv.fit(X_train,y_train)\n",
    "\n",
    "print(\"tuned hpyerparameters :(best parameters) \",logreg_cv.best_params_)\n",
    "print(\"accuracy :\",logreg_cv.best_score_)"
   ]
  },
  {
   "cell_type": "code",
   "execution_count": 14,
   "id": "73aea8e5",
   "metadata": {},
   "outputs": [
    {
     "data": {
      "text/plain": [
       "LogisticRegression(C=0.01)"
      ]
     },
     "execution_count": 14,
     "metadata": {},
     "output_type": "execute_result"
    }
   ],
   "source": [
    "#logreg = LogisticRegression(penalty='l2')\n",
    "logreg = LogisticRegression(penalty='l2',C= 0.01)\n",
    "logreg.fit(X_train, y_train)"
   ]
  },
  {
   "cell_type": "code",
   "execution_count": 15,
   "id": "b003983b",
   "metadata": {},
   "outputs": [
    {
     "name": "stdout",
     "output_type": "stream",
     "text": [
      "Accuracy of logistic regression classifier on test set: 0.96\n"
     ]
    }
   ],
   "source": [
    "y_pred = logreg.predict(X_test)\n",
    "print('Accuracy of logistic regression classifier on test set: {:.2f}'.format(logreg.score(X_test, y_test)))"
   ]
  },
  {
   "cell_type": "code",
   "execution_count": 19,
   "id": "0abc161f",
   "metadata": {},
   "outputs": [
    {
     "name": "stdout",
     "output_type": "stream",
     "text": [
      "              precision    recall  f1-score   support\n",
      "\n",
      "           0       0.95      0.97      0.96     57261\n",
      "           1       0.97      0.95      0.96     56465\n",
      "\n",
      "    accuracy                           0.96    113726\n",
      "   macro avg       0.96      0.96      0.96    113726\n",
      "weighted avg       0.96      0.96      0.96    113726\n",
      "\n"
     ]
    }
   ],
   "source": [
    "from sklearn.metrics import classification_report\n",
    "print(classification_report(y_test, y_pred))"
   ]
  },
  {
   "cell_type": "code",
   "execution_count": 20,
   "id": "af11877b",
   "metadata": {},
   "outputs": [
    {
     "data": {
      "image/png": "[encoded data removed]",
      "text/plain": [
       "<Figure size 432x288 with 1 Axes>"
      ]
     },
     "metadata": {
      "needs_background": "light"
     },
     "output_type": "display_data"
    }
   ],
   "source": [
    "from sklearn.metrics import roc_auc_score\n",
    "from sklearn.metrics import roc_curve\n",
    "logit_roc_auc = roc_auc_score(y_test, logreg.predict(X_test))\n",
    "fpr, tpr, thresholds = roc_curve(y_test, logreg.predict_proba(X_test)[:,1])\n",
    "plt.figure()\n",
    "plt.plot(fpr, tpr, label='Logistic Regression (area = %0.2f)' % logit_roc_auc)\n",
    "plt.plot([0, 1], [0, 1],'r--')\n",
    "plt.xlim([0.0, 1.0])\n",
    "plt.ylim([0.0, 1.05])\n",
    "plt.xlabel('False Positive Rate')\n",
    "plt.ylabel('True Positive Rate')\n",
    "plt.title('ROC curve: Logistic Regreesion model for Fraud Detection ')\n",
    "plt.legend(loc=\"lower right\")\n",
    "plt.savefig('Log_ROC')\n",
    "plt.show()"
   ]
  },
  {
   "cell_type": "code",
   "execution_count": 21,
   "id": "ef3bb361",
   "metadata": {},
   "outputs": [
    {
     "name": "stdout",
     "output_type": "stream",
     "text": [
      "% Positive class in Train = 50.09\n",
      "% Positive class in Test  = 49.65\n"
     ]
    }
   ],
   "source": [
    "print(f'''% Positive class in Train = {np.round(y_train.value_counts(normalize=True)[1] * 100, 2)}\n",
    "% Positive class in Test  = {np.round(y_test.value_counts(normalize=True)[1] * 100, 2)}''')"
   ]
  },
  {
   "cell_type": "code",
   "execution_count": 22,
   "id": "829f6fe5",
   "metadata": {},
   "outputs": [
    {
     "name": "stdout",
     "output_type": "stream",
     "text": [
      "Accuracy = 0.96\n",
      "Recall = 0.95\n",
      "\n"
     ]
    },
    {
     "data": {
      "image/png": "[encoded data removed]",
      "text/plain": [
       "<Figure size 576x432 with 2 Axes>"
      ]
     },
     "metadata": {
      "needs_background": "light"
     },
     "output_type": "display_data"
    }
   ],
   "source": [
    "from sklearn.metrics import recall_score\n",
    "# Evaluate\n",
    "print(f'Accuracy = {accuracy_score(y_test, y_pred):.2f}\\nRecall = {recall_score(y_test, y_pred):.2f}\\n')\n",
    "cm = confusion_matrix(y_test, y_pred)\n",
    "plt.figure(figsize=(8, 6))\n",
    "plt.title('Confusion Matrix (without Resampling)', size=16)\n",
    "sns.heatmap(cm, annot=True, cmap='Blues');"
   ]
  },
  {
   "cell_type": "code",
   "execution_count": 25,
   "id": "6515ea0a",
   "metadata": {},
   "outputs": [
    {
     "name": "stdout",
     "output_type": "stream",
     "text": [
      "0.9893016915987329\n"
     ]
    }
   ],
   "source": [
    "# Average precision score\n",
    "y_score = logreg.predict_proba(X_test)[:, 1]\n",
    "average_precision = average_precision_score(y_test, y_score)\n",
    "print(average_precision)"
   ]
  },
  {
   "cell_type": "code",
   "execution_count": 26,
   "id": "2e40bf71",
   "metadata": {},
   "outputs": [
    {
     "name": "stdout",
     "output_type": "stream",
     "text": [
      "0.9893899613191661\n"
     ]
    }
   ],
   "source": [
    "# Data to plot precision - recall curve\n",
    "precision, recall, thresholds = precision_recall_curve(y_test, y_score)\n",
    "# Use AUC function to calculate the area under the curve of precision recall curve\n",
    "auc_precision_recall = auc(recall, precision)\n",
    "print(auc_precision_recall)"
   ]
  },
  {
   "cell_type": "code",
   "execution_count": 28,
   "id": "ba8b1f78",
   "metadata": {},
   "outputs": [
    {
     "name": "stderr",
     "output_type": "stream",
     "text": [
      "/Users/sunqiaoyubing/opt/anaconda3/lib/python3.8/site-packages/sklearn/utils/deprecation.py:87: FutureWarning: Function plot_precision_recall_curve is deprecated; Function `plot_precision_recall_curve` is deprecated in 1.0 and will be removed in 1.2. Use one of the class methods: PrecisionRecallDisplay.from_predictions or PrecisionRecallDisplay.from_estimator.\n",
      "  warnings.warn(msg, category=FutureWarning)\n"
     ]
    },
    {
     "data": {
      "text/plain": [
       "Text(0.5, 1.0, 'Binary class Precision-Recall curve: AP=0.99')"
      ]
     },
     "execution_count": 28,
     "metadata": {},
     "output_type": "execute_result"
    },
    {
     "data": {
      "image/png": "[encoded data removed]",
      "text/plain": [
       "<Figure size 432x288 with 1 Axes>"
      ]
     },
     "metadata": {
      "needs_background": "light"
     },
     "output_type": "display_data"
    }
   ],
   "source": [
    "disp = plot_precision_recall_curve(logreg, X_test, y_test)\n",
    "disp.ax_.set_title('Binary class Precision-Recall curve: '\n",
    "                   'AP={0:0.2f}'.format(average_precision))"
   ]
  },
  {
   "cell_type": "code",
   "execution_count": 29,
   "id": "fcca8b0d",
   "metadata": {},
   "outputs": [
    {
     "data": {
      "text/plain": [
       "0.9160000612281525"
      ]
     },
     "execution_count": 29,
     "metadata": {},
     "output_type": "execute_result"
    }
   ],
   "source": [
    "from sklearn.metrics import matthews_corrcoef\n",
    "matthews_corrcoef(y_test, y_pred)"
   ]
  },
  {
   "cell_type": "markdown",
   "id": "ba26897f",
   "metadata": {},
   "source": [
    "## Decision Tree All-SMOTE"
   ]
  },
  {
   "cell_type": "code",
   "execution_count": 9,
   "id": "cddb3355",
   "metadata": {},
   "outputs": [
    {
     "data": {
      "text/plain": [
       "DecisionTreeClassifier(max_depth=10, min_samples_split=10)"
      ]
     },
     "execution_count": 9,
     "metadata": {},
     "output_type": "execute_result"
    }
   ],
   "source": [
    "# Decision tree model\n",
    "# Decision Tree\n",
    "clf = DecisionTreeClassifier()\n",
    "\n",
    "parameters = {'max_depth': [2, 3, 5, 6, 8, 10], \n",
    "              'min_samples_split': [10, 20, 30, 50, 100],\n",
    "              'min_samples_leaf': [1, 5, 8, 10, 30],\n",
    "             }\n",
    "\n",
    "acc_scorer = make_scorer(accuracy_score)\n",
    "\n",
    "#grid search\n",
    "grid_obj = GridSearchCV(clf, parameters, scoring=acc_scorer)\n",
    "grid_obj = grid_obj.fit(X_train, y_train)\n",
    "\n",
    "# Set the clf to the best combination of parameters\n",
    "clf = grid_obj.best_estimator_\n",
    "\n",
    "clf.fit(X_train, y_train)"
   ]
  },
  {
   "cell_type": "code",
   "execution_count": 10,
   "id": "c5f4de09",
   "metadata": {},
   "outputs": [
    {
     "data": {
      "text/plain": [
       "DecisionTreeClassifier(max_depth=10, min_samples_leaf=5, min_samples_split=10)"
      ]
     },
     "execution_count": 10,
     "metadata": {},
     "output_type": "execute_result"
    }
   ],
   "source": [
    "clf_gini = DecisionTreeClassifier(criterion='gini', max_depth=10, min_samples_leaf=5, min_samples_split=10)\n",
    "\n",
    "\n",
    "# fit the model\n",
    "clf_gini.fit(X_train, y_train)"
   ]
  },
  {
   "cell_type": "code",
   "execution_count": 13,
   "id": "21f7dccb",
   "metadata": {},
   "outputs": [
    {
     "data": {
      "text/plain": [
       "[Text(0.3318270905923345, 0.9545454545454546, 'X[14] <= -1.705\\ngini = 0.5\\nsamples = 454904\\nvalue = [227054, 227850]'),\n",
       " Text(0.1253538763066202, 0.8636363636363636, 'X[4] <= -0.16\\ngini = 0.067\\nsamples = 218431\\nvalue = [7533, 210898]'),\n",
       " Text(0.031794425087108016, 0.7727272727272727, 'X[17] <= -2.754\\ngini = 0.244\\nsamples = 3773\\nvalue = [3236, 537]'),\n",
       " Text(0.006968641114982578, 0.6818181818181818, 'X[4] <= -0.896\\ngini = 0.109\\nsamples = 225\\nvalue = [13, 212]'),\n",
       " Text(0.003484320557491289, 0.5909090909090909, 'gini = 0.0\\nsamples = 12\\nvalue = [12, 0]'),\n",
       " Text(0.010452961672473868, 0.5909090909090909, 'X[12] <= -3.633\\ngini = 0.009\\nsamples = 213\\nvalue = [1, 212]'),\n",
       " Text(0.006968641114982578, 0.5, 'gini = 0.32\\nsamples = 5\\nvalue = [1, 4]'),\n",
       " Text(0.013937282229965157, 0.5, 'gini = 0.0\\nsamples = 208\\nvalue = [0, 208]'),\n",
       " Text(0.05662020905923345, 0.6818181818181818, 'X[0] <= 166525.484\\ngini = 0.166\\nsamples = 3548\\nvalue = [3223, 325]'),\n",
       " Text(0.036585365853658534, 0.5909090909090909, 'X[29] <= 98.31\\ngini = 0.112\\nsamples = 3257\\nvalue = [3063, 194]'),\n",
       " Text(0.020905923344947737, 0.5, 'X[17] <= -1.749\\ngini = 0.042\\nsamples = 2718\\nvalue = [2660, 58]'),\n",
       " Text(0.013937282229965157, 0.4090909090909091, 'X[7] <= -0.315\\ngini = 0.428\\nsamples = 174\\nvalue = [120, 54]'),\n",
       " Text(0.010452961672473868, 0.3181818181818182, 'gini = 0.0\\nsamples = 54\\nvalue = [0, 54]'),\n",
       " Text(0.017421602787456445, 0.3181818181818182, 'gini = 0.0\\nsamples = 120\\nvalue = [120, 0]'),\n",
       " Text(0.027874564459930314, 0.4090909090909091, 'X[17] <= -1.618\\ngini = 0.003\\nsamples = 2544\\nvalue = [2540, 4]'),\n",
       " Text(0.024390243902439025, 0.3181818181818182, 'X[1] <= -1.184\\ngini = 0.188\\nsamples = 38\\nvalue = [34, 4]'),\n",
       " Text(0.020905923344947737, 0.22727272727272727, 'gini = 0.0\\nsamples = 33\\nvalue = [33, 0]'),\n",
       " Text(0.027874564459930314, 0.22727272727272727, 'gini = 0.32\\nsamples = 5\\nvalue = [1, 4]'),\n",
       " Text(0.0313588850174216, 0.3181818181818182, 'gini = 0.0\\nsamples = 2506\\nvalue = [2506, 0]'),\n",
       " Text(0.05226480836236934, 0.5, 'X[4] <= -0.433\\ngini = 0.377\\nsamples = 539\\nvalue = [403, 136]'),\n",
       " Text(0.041811846689895474, 0.4090909090909091, 'X[4] <= -0.458\\ngini = 0.024\\nsamples = 330\\nvalue = [326, 4]'),\n",
       " Text(0.03832752613240418, 0.3181818181818182, 'gini = 0.0\\nsamples = 315\\nvalue = [315, 0]'),\n",
       " Text(0.04529616724738676, 0.3181818181818182, 'X[14] <= -1.87\\ngini = 0.391\\nsamples = 15\\nvalue = [11, 4]'),\n",
       " Text(0.041811846689895474, 0.22727272727272727, 'gini = 0.0\\nsamples = 10\\nvalue = [10, 0]'),\n",
       " Text(0.04878048780487805, 0.22727272727272727, 'gini = 0.32\\nsamples = 5\\nvalue = [1, 4]'),\n",
       " Text(0.0627177700348432, 0.4090909090909091, 'X[9] <= 0.409\\ngini = 0.465\\nsamples = 209\\nvalue = [77, 132]'),\n",
       " Text(0.059233449477351915, 0.3181818181818182, 'X[6] <= -0.674\\ngini = 0.268\\nsamples = 157\\nvalue = [25, 132]'),\n",
       " Text(0.05574912891986063, 0.22727272727272727, 'gini = 0.0\\nsamples = 14\\nvalue = [14, 0]'),\n",
       " Text(0.0627177700348432, 0.22727272727272727, 'X[3] <= -0.405\\ngini = 0.142\\nsamples = 143\\nvalue = [11, 132]'),\n",
       " Text(0.059233449477351915, 0.13636363636363635, 'X[15] <= -0.712\\ngini = 0.07\\nsamples = 137\\nvalue = [5, 132]'),\n",
       " Text(0.05574912891986063, 0.045454545454545456, 'gini = 0.48\\nsamples = 5\\nvalue = [3, 2]'),\n",
       " Text(0.0627177700348432, 0.045454545454545456, 'gini = 0.03\\nsamples = 132\\nvalue = [2, 130]'),\n",
       " Text(0.06620209059233449, 0.13636363636363635, 'gini = 0.0\\nsamples = 6\\nvalue = [6, 0]'),\n",
       " Text(0.06620209059233449, 0.3181818181818182, 'gini = 0.0\\nsamples = 52\\nvalue = [52, 0]'),\n",
       " Text(0.07665505226480836, 0.5909090909090909, 'X[0] <= 166978.523\\ngini = 0.495\\nsamples = 291\\nvalue = [160, 131]'),\n",
       " Text(0.07317073170731707, 0.5, 'X[23] <= 0.118\\ngini = 0.132\\nsamples = 141\\nvalue = [10, 131]'),\n",
       " Text(0.06968641114982578, 0.4090909090909091, 'gini = 0.0\\nsamples = 10\\nvalue = [10, 0]'),\n",
       " Text(0.07665505226480836, 0.4090909090909091, 'gini = 0.0\\nsamples = 131\\nvalue = [0, 131]'),\n",
       " Text(0.08013937282229965, 0.5, 'gini = 0.0\\nsamples = 150\\nvalue = [150, 0]'),\n",
       " Text(0.2189133275261324, 0.7727272727272727, 'X[12] <= 0.091\\ngini = 0.039\\nsamples = 214658\\nvalue = [4297, 210361]'),\n",
       " Text(0.16909843205574912, 0.6818181818181818, 'X[1] <= 1.885\\ngini = 0.025\\nsamples = 212292\\nvalue = [2660, 209632]'),\n",
       " Text(0.12216898954703832, 0.5909090909090909, 'X[12] <= -1.089\\ngini = 0.019\\nsamples = 211525\\nvalue = [2004, 209521]'),\n",
       " Text(0.08710801393728224, 0.5, 'X[10] <= 2.654\\ngini = 0.004\\nsamples = 200584\\nvalue = [367, 200217]'),\n",
       " Text(0.08362369337979095, 0.4090909090909091, 'X[11] <= -0.683\\ngini = 0.003\\nsamples = 200533\\nvalue = [316, 200217]'),\n",
       " Text(0.07317073170731707, 0.3181818181818182, 'X[8] <= -3.23\\ngini = 0.492\\nsamples = 78\\nvalue = [34, 44]'),\n",
       " Text(0.06968641114982578, 0.22727272727272727, 'gini = 0.0\\nsamples = 42\\nvalue = [0, 42]'),\n",
       " Text(0.07665505226480836, 0.22727272727272727, 'X[15] <= -1.122\\ngini = 0.105\\nsamples = 36\\nvalue = [34, 2]'),\n",
       " Text(0.07317073170731707, 0.13636363636363635, 'gini = 0.48\\nsamples = 5\\nvalue = [3, 2]'),\n",
       " Text(0.08013937282229965, 0.13636363636363635, 'gini = 0.0\\nsamples = 31\\nvalue = [31, 0]'),\n",
       " Text(0.09407665505226481, 0.3181818181818182, 'X[16] <= 3.147\\ngini = 0.003\\nsamples = 200455\\nvalue = [282, 200173]'),\n",
       " Text(0.09059233449477352, 0.22727272727272727, 'X[13] <= 2.82\\ngini = 0.003\\nsamples = 200443\\nvalue = [270, 200173]'),\n",
       " Text(0.08710801393728224, 0.13636363636363635, 'X[18] <= 3.824\\ngini = 0.003\\nsamples = 200435\\nvalue = [262, 200173]'),\n",
       " Text(0.08362369337979095, 0.045454545454545456, 'gini = 0.003\\nsamples = 200427\\nvalue = [254, 200173]'),\n",
       " Text(0.09059233449477352, 0.045454545454545456, 'gini = 0.0\\nsamples = 8\\nvalue = [8, 0]'),\n",
       " Text(0.09407665505226481, 0.13636363636363635, 'gini = 0.0\\nsamples = 8\\nvalue = [8, 0]'),\n",
       " Text(0.0975609756097561, 0.22727272727272727, 'gini = 0.0\\nsamples = 12\\nvalue = [12, 0]'),\n",
       " Text(0.09059233449477352, 0.4090909090909091, 'gini = 0.0\\nsamples = 51\\nvalue = [51, 0]'),\n",
       " Text(0.15722996515679444, 0.5, 'X[15] <= 0.746\\ngini = 0.254\\nsamples = 10941\\nvalue = [1637, 9304]'),\n",
       " Text(0.12804878048780488, 0.4090909090909091, 'X[10] <= 0.26\\ngini = 0.171\\nsamples = 9794\\nvalue = [923, 8871]'),\n",
       " Text(0.10801393728222997, 0.3181818181818182, 'X[24] <= -1.159\\ngini = 0.134\\nsamples = 9348\\nvalue = [673, 8675]'),\n",
       " Text(0.10452961672473868, 0.22727272727272727, 'gini = 0.0\\nsamples = 78\\nvalue = [78, 0]'),\n",
       " Text(0.11149825783972125, 0.22727272727272727, 'X[7] <= 0.725\\ngini = 0.12\\nsamples = 9270\\nvalue = [595, 8675]'),\n",
       " Text(0.10452961672473868, 0.13636363636363635, 'X[25] <= 0.846\\ngini = 0.07\\nsamples = 8226\\nvalue = [298, 7928]'),\n",
       " Text(0.10104529616724739, 0.045454545454545456, 'gini = 0.06\\nsamples = 8182\\nvalue = [254, 7928]'),\n",
       " Text(0.10801393728222997, 0.045454545454545456, 'gini = 0.0\\nsamples = 44\\nvalue = [44, 0]'),\n",
       " Text(0.11846689895470383, 0.13636363636363635, 'X[1] <= -0.519\\ngini = 0.407\\nsamples = 1044\\nvalue = [297, 747]'),\n",
       " Text(0.11498257839721254, 0.045454545454545456, 'gini = 0.103\\nsamples = 147\\nvalue = [139, 8]'),\n",
       " Text(0.12195121951219512, 0.045454545454545456, 'gini = 0.29\\nsamples = 897\\nvalue = [158, 739]'),\n",
       " Text(0.1480836236933798, 0.3181818181818182, 'X[19] <= -0.845\\ngini = 0.493\\nsamples = 446\\nvalue = [250, 196]'),\n",
       " Text(0.13937282229965156, 0.22727272727272727, 'X[13] <= 0.089\\ngini = 0.373\\nsamples = 254\\nvalue = [63, 191]'),\n",
       " Text(0.13240418118466898, 0.13636363636363635, 'X[11] <= 2.022\\ngini = 0.231\\nsamples = 60\\nvalue = [52, 8]'),\n",
       " Text(0.1289198606271777, 0.045454545454545456, 'gini = 0.0\\nsamples = 52\\nvalue = [52, 0]'),\n",
       " Text(0.13588850174216027, 0.045454545454545456, 'gini = 0.0\\nsamples = 8\\nvalue = [0, 8]'),\n",
       " Text(0.14634146341463414, 0.13636363636363635, 'X[26] <= -0.285\\ngini = 0.107\\nsamples = 194\\nvalue = [11, 183]'),\n",
       " Text(0.14285714285714285, 0.045454545454545456, 'gini = 0.0\\nsamples = 11\\nvalue = [11, 0]'),\n",
       " Text(0.14982578397212543, 0.045454545454545456, 'gini = 0.0\\nsamples = 183\\nvalue = [0, 183]'),\n",
       " Text(0.156794425087108, 0.22727272727272727, 'X[1] <= 1.003\\ngini = 0.051\\nsamples = 192\\nvalue = [187, 5]'),\n",
       " Text(0.15331010452961671, 0.13636363636363635, 'gini = 0.0\\nsamples = 186\\nvalue = [186, 0]'),\n",
       " Text(0.1602787456445993, 0.13636363636363635, 'gini = 0.278\\nsamples = 6\\nvalue = [1, 5]'),\n",
       " Text(0.18641114982578397, 0.4090909090909091, 'X[21] <= 0.052\\ngini = 0.47\\nsamples = 1147\\nvalue = [714, 433]'),\n",
       " Text(0.17073170731707318, 0.3181818181818182, 'X[3] <= -1.069\\ngini = 0.209\\nsamples = 684\\nvalue = [603, 81]'),\n",
       " Text(0.1672473867595819, 0.22727272727272727, 'gini = 0.0\\nsamples = 471\\nvalue = [471, 0]'),\n",
       " Text(0.17421602787456447, 0.22727272727272727, 'X[12] <= -0.765\\ngini = 0.471\\nsamples = 213\\nvalue = [132, 81]'),\n",
       " Text(0.1672473867595819, 0.13636363636363635, 'X[15] <= 1.215\\ngini = 0.424\\nsamples = 105\\nvalue = [32, 73]'),\n",
       " Text(0.16376306620209058, 0.045454545454545456, 'gini = 0.212\\nsamples = 83\\nvalue = [10, 73]'),\n",
       " Text(0.17073170731707318, 0.045454545454545456, 'gini = 0.0\\nsamples = 22\\nvalue = [22, 0]'),\n",
       " Text(0.18118466898954705, 0.13636363636363635, 'X[27] <= 0.968\\ngini = 0.137\\nsamples = 108\\nvalue = [100, 8]'),\n",
       " Text(0.17770034843205576, 0.045454545454545456, 'gini = 0.075\\nsamples = 102\\nvalue = [98, 4]'),\n",
       " Text(0.18466898954703834, 0.045454545454545456, 'gini = 0.444\\nsamples = 6\\nvalue = [2, 4]'),\n",
       " Text(0.20209059233449478, 0.3181818181818182, 'X[0] <= 59507.936\\ngini = 0.365\\nsamples = 463\\nvalue = [111, 352]'),\n",
       " Text(0.1916376306620209, 0.22727272727272727, 'X[22] <= -0.18\\ngini = 0.068\\nsamples = 311\\nvalue = [11, 300]'),\n",
       " Text(0.18815331010452963, 0.13636363636363635, 'gini = 0.0\\nsamples = 6\\nvalue = [6, 0]'),\n",
       " Text(0.1951219512195122, 0.13636363636363635, 'X[2] <= 1.733\\ngini = 0.032\\nsamples = 305\\nvalue = [5, 300]'),\n",
       " Text(0.1916376306620209, 0.045454545454545456, 'gini = 0.013\\nsamples = 300\\nvalue = [2, 298]'),\n",
       " Text(0.1986062717770035, 0.045454545454545456, 'gini = 0.48\\nsamples = 5\\nvalue = [3, 2]'),\n",
       " Text(0.21254355400696864, 0.22727272727272727, 'X[5] <= -0.173\\ngini = 0.45\\nsamples = 152\\nvalue = [100, 52]'),\n",
       " Text(0.20905923344947736, 0.13636363636363635, 'X[3] <= -2.228\\ngini = 0.209\\nsamples = 59\\nvalue = [7, 52]'),\n",
       " Text(0.20557491289198607, 0.045454545454545456, 'gini = 0.0\\nsamples = 52\\nvalue = [0, 52]'),\n",
       " Text(0.21254355400696864, 0.045454545454545456, 'gini = 0.0\\nsamples = 7\\nvalue = [7, 0]'),\n",
       " Text(0.21602787456445993, 0.13636363636363635, 'gini = 0.0\\nsamples = 93\\nvalue = [93, 0]'),\n",
       " Text(0.21602787456445993, 0.5909090909090909, 'X[3] <= -3.634\\ngini = 0.248\\nsamples = 767\\nvalue = [656, 111]'),\n",
       " Text(0.20905923344947736, 0.5, 'X[24] <= -0.075\\ngini = 0.358\\nsamples = 133\\nvalue = [31, 102]'),\n",
       " Text(0.20557491289198607, 0.4090909090909091, 'gini = 0.0\\nsamples = 27\\nvalue = [27, 0]'),\n",
       " Text(0.21254355400696864, 0.4090909090909091, 'X[20] <= -0.096\\ngini = 0.073\\nsamples = 106\\nvalue = [4, 102]'),\n",
       " Text(0.20905923344947736, 0.3181818181818182, 'gini = 0.0\\nsamples = 101\\nvalue = [0, 101]'),\n",
       " Text(0.21602787456445993, 0.3181818181818182, 'gini = 0.32\\nsamples = 5\\nvalue = [4, 1]'),\n",
       " Text(0.2229965156794425, 0.5, 'X[19] <= -1.928\\ngini = 0.028\\nsamples = 634\\nvalue = [625, 9]'),\n",
       " Text(0.21951219512195122, 0.4090909090909091, 'gini = 0.494\\nsamples = 9\\nvalue = [4, 5]'),\n",
       " Text(0.2264808362369338, 0.4090909090909091, 'X[20] <= -0.012\\ngini = 0.013\\nsamples = 625\\nvalue = [621, 4]'),\n",
       " Text(0.2229965156794425, 0.3181818181818182, 'X[25] <= 0.68\\ngini = 0.006\\nsamples = 620\\nvalue = [618, 2]'),\n",
       " Text(0.21951219512195122, 0.22727272727272727, 'gini = 0.0\\nsamples = 615\\nvalue = [615, 0]'),\n",
       " Text(0.2264808362369338, 0.22727272727272727, 'gini = 0.48\\nsamples = 5\\nvalue = [3, 2]'),\n",
       " Text(0.22996515679442509, 0.3181818181818182, 'gini = 0.48\\nsamples = 5\\nvalue = [3, 2]'),\n",
       " Text(0.26872822299651566, 0.6818181818181818, 'X[29] <= 35.548\\ngini = 0.426\\nsamples = 2366\\nvalue = [1637, 729]'),\n",
       " Text(0.24390243902439024, 0.5909090909090909, 'X[4] <= 1.99\\ngini = 0.205\\nsamples = 1306\\nvalue = [1155, 151]'),\n",
       " Text(0.23693379790940766, 0.5, 'X[17] <= -1.352\\ngini = 0.021\\nsamples = 1124\\nvalue = [1112, 12]'),\n",
       " Text(0.23344947735191637, 0.4090909090909091, 'gini = 0.0\\nsamples = 12\\nvalue = [0, 12]'),\n",
       " Text(0.24041811846689895, 0.4090909090909091, 'gini = 0.0\\nsamples = 1112\\nvalue = [1112, 0]'),\n",
       " Text(0.2508710801393728, 0.5, 'X[18] <= 0.818\\ngini = 0.361\\nsamples = 182\\nvalue = [43, 139]'),\n",
       " Text(0.24738675958188153, 0.4090909090909091, 'gini = 0.0\\nsamples = 25\\nvalue = [25, 0]'),\n",
       " Text(0.25435540069686413, 0.4090909090909091, 'X[25] <= -0.132\\ngini = 0.203\\nsamples = 157\\nvalue = [18, 139]'),\n",
       " Text(0.2508710801393728, 0.3181818181818182, 'gini = 0.0\\nsamples = 13\\nvalue = [13, 0]'),\n",
       " Text(0.2578397212543554, 0.3181818181818182, 'X[8] <= 0.106\\ngini = 0.067\\nsamples = 144\\nvalue = [5, 139]'),\n",
       " Text(0.25435540069686413, 0.22727272727272727, 'X[27] <= -0.017\\ngini = 0.042\\nsamples = 139\\nvalue = [3, 136]'),\n",
       " Text(0.2508710801393728, 0.13636363636363635, 'gini = 0.48\\nsamples = 5\\nvalue = [2, 3]'),\n",
       " Text(0.2578397212543554, 0.13636363636363635, 'X[17] <= 0.752\\ngini = 0.015\\nsamples = 134\\nvalue = [1, 133]'),\n",
       " Text(0.25435540069686413, 0.045454545454545456, 'gini = 0.32\\nsamples = 5\\nvalue = [1, 4]'),\n",
       " Text(0.2613240418118467, 0.045454545454545456, 'gini = 0.0\\nsamples = 129\\nvalue = [0, 129]'),\n",
       " Text(0.2613240418118467, 0.22727272727272727, 'gini = 0.48\\nsamples = 5\\nvalue = [2, 3]'),\n",
       " Text(0.2935540069686411, 0.5909090909090909, 'X[10] <= -0.995\\ngini = 0.496\\nsamples = 1060\\nvalue = [482, 578]'),\n",
       " Text(0.28222996515679444, 0.5, 'X[8] <= 0.164\\ngini = 0.349\\nsamples = 609\\nvalue = [137, 472]'),\n",
       " Text(0.2787456445993031, 0.4090909090909091, 'X[26] <= 0.084\\ngini = 0.273\\nsamples = 564\\nvalue = [92, 472]'),\n",
       " Text(0.27177700348432055, 0.3181818181818182, 'X[24] <= -0.487\\ngini = 0.206\\nsamples = 533\\nvalue = [62, 471]'),\n",
       " Text(0.2682926829268293, 0.22727272727272727, 'gini = 0.0\\nsamples = 21\\nvalue = [21, 0]'),\n",
       " Text(0.27526132404181186, 0.22727272727272727, 'X[20] <= -0.012\\ngini = 0.147\\nsamples = 512\\nvalue = [41, 471]'),\n",
       " Text(0.27177700348432055, 0.13636363636363635, 'gini = 0.0\\nsamples = 10\\nvalue = [10, 0]'),\n",
       " Text(0.2787456445993031, 0.13636363636363635, 'X[6] <= -1.455\\ngini = 0.116\\nsamples = 502\\nvalue = [31, 471]'),\n",
       " Text(0.27526132404181186, 0.045454545454545456, 'gini = 0.0\\nsamples = 7\\nvalue = [7, 0]'),\n",
       " Text(0.28222996515679444, 0.045454545454545456, 'gini = 0.092\\nsamples = 495\\nvalue = [24, 471]'),\n",
       " Text(0.2857142857142857, 0.3181818181818182, 'X[17] <= 0.827\\ngini = 0.062\\nsamples = 31\\nvalue = [30, 1]'),\n",
       " Text(0.28222996515679444, 0.22727272727272727, 'gini = 0.32\\nsamples = 5\\nvalue = [4, 1]'),\n",
       " Text(0.289198606271777, 0.22727272727272727, 'gini = 0.0\\nsamples = 26\\nvalue = [26, 0]'),\n",
       " Text(0.2857142857142857, 0.4090909090909091, 'gini = 0.0\\nsamples = 45\\nvalue = [45, 0]'),\n",
       " Text(0.3048780487804878, 0.5, 'X[9] <= -1.039\\ngini = 0.36\\nsamples = 451\\nvalue = [345, 106]'),\n",
       " Text(0.2979094076655052, 0.4090909090909091, 'X[10] <= 0.319\\ngini = 0.293\\nsamples = 56\\nvalue = [10, 46]'),\n",
       " Text(0.29442508710801396, 0.3181818181818182, 'gini = 0.0\\nsamples = 10\\nvalue = [10, 0]'),\n",
       " Text(0.30139372822299654, 0.3181818181818182, 'gini = 0.0\\nsamples = 46\\nvalue = [0, 46]'),\n",
       " Text(0.3118466898954704, 0.4090909090909091, 'X[10] <= -0.742\\ngini = 0.258\\nsamples = 395\\nvalue = [335, 60]'),\n",
       " Text(0.3083623693379791, 0.3181818181818182, 'X[17] <= 0.988\\ngini = 0.486\\nsamples = 144\\nvalue = [84, 60]'),\n",
       " Text(0.29965156794425085, 0.22727272727272727, 'X[11] <= -0.096\\ngini = 0.449\\nsamples = 88\\nvalue = [30, 58]'),\n",
       " Text(0.2926829268292683, 0.13636363636363635, 'X[3] <= -1.983\\ngini = 0.095\\nsamples = 20\\nvalue = [19, 1]'),\n",
       " Text(0.289198606271777, 0.045454545454545456, 'gini = 0.32\\nsamples = 5\\nvalue = [4, 1]'),\n",
       " Text(0.2961672473867596, 0.045454545454545456, 'gini = 0.0\\nsamples = 15\\nvalue = [15, 0]'),\n",
       " Text(0.30662020905923343, 0.13636363636363635, 'X[3] <= 0.325\\ngini = 0.271\\nsamples = 68\\nvalue = [11, 57]'),\n",
       " Text(0.30313588850174217, 0.045454545454545456, 'gini = 0.148\\nsamples = 62\\nvalue = [5, 57]'),\n",
       " Text(0.31010452961672474, 0.045454545454545456, 'gini = 0.0\\nsamples = 6\\nvalue = [6, 0]'),\n",
       " Text(0.3170731707317073, 0.22727272727272727, 'X[4] <= 1.785\\ngini = 0.069\\nsamples = 56\\nvalue = [54, 2]'),\n",
       " Text(0.313588850174216, 0.13636363636363635, 'gini = 0.0\\nsamples = 51\\nvalue = [51, 0]'),\n",
       " Text(0.3205574912891986, 0.13636363636363635, 'gini = 0.48\\nsamples = 5\\nvalue = [3, 2]'),\n",
       " Text(0.3153310104529617, 0.3181818181818182, 'gini = 0.0\\nsamples = 251\\nvalue = [251, 0]'),\n",
       " Text(0.5383003048780488, 0.8636363636363636, 'X[17] <= -1.671\\ngini = 0.133\\nsamples = 236473\\nvalue = [219521, 16952]'),\n",
       " Text(0.35714285714285715, 0.7727272727272727, 'X[18] <= 0.019\\ngini = 0.104\\nsamples = 3667\\nvalue = [201, 3466]'),\n",
       " Text(0.3501742160278746, 0.6818181818181818, 'X[10] <= 2.208\\ngini = 0.021\\nsamples = 3456\\nvalue = [37, 3419]'),\n",
       " Text(0.34668989547038326, 0.5909090909090909, 'X[16] <= 1.265\\ngini = 0.012\\nsamples = 3439\\nvalue = [20, 3419]'),\n",
       " Text(0.343205574912892, 0.5, 'X[4] <= -0.807\\ngini = 0.008\\nsamples = 3432\\nvalue = [13, 3419]'),\n",
       " Text(0.3397212543554007, 0.4090909090909091, 'gini = 0.0\\nsamples = 6\\nvalue = [6, 0]'),\n",
       " Text(0.34668989547038326, 0.4090909090909091, 'X[0] <= 154102.914\\ngini = 0.004\\nsamples = 3426\\nvalue = [7, 3419]'),\n",
       " Text(0.343205574912892, 0.3181818181818182, 'X[3] <= 0.783\\ngini = 0.003\\nsamples = 3421\\nvalue = [5, 3416]'),\n",
       " Text(0.3344947735191638, 0.22727272727272727, 'X[24] <= 0.723\\ngini = 0.002\\nsamples = 3402\\nvalue = [3, 3399]'),\n",
       " Text(0.32752613240418116, 0.13636363636363635, 'X[8] <= 0.698\\ngini = 0.001\\nsamples = 3389\\nvalue = [2, 3387]'),\n",
       " Text(0.3240418118466899, 0.045454545454545456, 'gini = 0.0\\nsamples = 3209\\nvalue = [0, 3209]'),\n",
       " Text(0.3310104529616725, 0.045454545454545456, 'gini = 0.022\\nsamples = 180\\nvalue = [2, 178]'),\n",
       " Text(0.34146341463414637, 0.13636363636363635, 'X[16] <= -1.573\\ngini = 0.142\\nsamples = 13\\nvalue = [1, 12]'),\n",
       " Text(0.33797909407665505, 0.045454545454545456, 'gini = 0.32\\nsamples = 5\\nvalue = [1, 4]'),\n",
       " Text(0.34494773519163763, 0.045454545454545456, 'gini = 0.0\\nsamples = 8\\nvalue = [0, 8]'),\n",
       " Text(0.3519163763066202, 0.22727272727272727, 'X[19] <= 0.672\\ngini = 0.188\\nsamples = 19\\nvalue = [2, 17]'),\n",
       " Text(0.34843205574912894, 0.13636363636363635, 'gini = 0.48\\nsamples = 5\\nvalue = [2, 3]'),\n",
       " Text(0.3554006968641115, 0.13636363636363635, 'gini = 0.0\\nsamples = 14\\nvalue = [0, 14]'),\n",
       " Text(0.3501742160278746, 0.3181818181818182, 'gini = 0.48\\nsamples = 5\\nvalue = [2, 3]'),\n",
       " Text(0.3501742160278746, 0.5, 'gini = 0.0\\nsamples = 7\\nvalue = [7, 0]'),\n",
       " Text(0.35365853658536583, 0.5909090909090909, 'gini = 0.0\\nsamples = 17\\nvalue = [17, 0]'),\n",
       " Text(0.3641114982578397, 0.6818181818181818, 'X[11] <= 1.161\\ngini = 0.346\\nsamples = 211\\nvalue = [164, 47]'),\n",
       " Text(0.3606271777003484, 0.5909090909090909, 'gini = 0.0\\nsamples = 162\\nvalue = [162, 0]'),\n",
       " Text(0.367595818815331, 0.5909090909090909, 'X[10] <= -0.866\\ngini = 0.078\\nsamples = 49\\nvalue = [2, 47]'),\n",
       " Text(0.3641114982578397, 0.5, 'gini = 0.0\\nsamples = 44\\nvalue = [0, 44]'),\n",
       " Text(0.3710801393728223, 0.5, 'gini = 0.48\\nsamples = 5\\nvalue = [2, 3]'),\n",
       " Text(0.7194577526132404, 0.7727272727272727, 'X[4] <= 1.512\\ngini = 0.109\\nsamples = 232806\\nvalue = [219320, 13486]'),\n",
       " Text(0.5678353658536586, 0.6818181818181818, 'X[14] <= -0.822\\ngini = 0.056\\nsamples = 205038\\nvalue = [199151, 5887]'),\n",
       " Text(0.48802264808362367, 0.5909090909090909, 'X[4] <= 0.755\\ngini = 0.242\\nsamples = 23957\\nvalue = [20577, 3380]'),\n",
       " Text(0.4394599303135889, 0.5, 'X[19] <= 0.946\\ngini = 0.151\\nsamples = 19156\\nvalue = [17585, 1571]'),\n",
       " Text(0.40853658536585363, 0.4090909090909091, 'X[10] <= -0.989\\ngini = 0.104\\nsamples = 16936\\nvalue = [16006, 930]'),\n",
       " Text(0.3832752613240418, 0.3181818181818182, 'X[0] <= 77214.02\\ngini = 0.284\\nsamples = 3426\\nvalue = [2840, 586]'),\n",
       " Text(0.3693379790940767, 0.22727272727272727, 'X[15] <= 0.165\\ngini = 0.5\\nsamples = 899\\nvalue = [454, 445]'),\n",
       " Text(0.3623693379790941, 0.13636363636363635, 'X[12] <= -0.804\\ngini = 0.087\\nsamples = 309\\nvalue = [295, 14]'),\n",
       " Text(0.3588850174216028, 0.045454545454545456, 'gini = 0.346\\nsamples = 18\\nvalue = [4, 14]'),\n",
       " Text(0.36585365853658536, 0.045454545454545456, 'gini = 0.0\\nsamples = 291\\nvalue = [291, 0]'),\n",
       " Text(0.37630662020905925, 0.13636363636363635, 'X[5] <= 0.556\\ngini = 0.394\\nsamples = 590\\nvalue = [159, 431]'),\n",
       " Text(0.37282229965156793, 0.045454545454545456, 'gini = 0.215\\nsamples = 491\\nvalue = [60, 431]'),\n",
       " Text(0.3797909407665505, 0.045454545454545456, 'gini = 0.0\\nsamples = 99\\nvalue = [99, 0]'),\n",
       " Text(0.397212543554007, 0.22727272727272727, 'X[3] <= -2.793\\ngini = 0.105\\nsamples = 2527\\nvalue = [2386, 141]'),\n",
       " Text(0.3902439024390244, 0.13636363636363635, 'X[16] <= -0.347\\ngini = 0.498\\nsamples = 206\\nvalue = [97, 109]'),\n",
       " Text(0.3867595818815331, 0.045454545454545456, 'gini = 0.253\\nsamples = 128\\nvalue = [19, 109]'),\n",
       " Text(0.39372822299651566, 0.045454545454545456, 'gini = 0.0\\nsamples = 78\\nvalue = [78, 0]'),\n",
       " Text(0.40418118466898956, 0.13636363636363635, 'X[7] <= 1.378\\ngini = 0.027\\nsamples = 2321\\nvalue = [2289, 32]'),\n",
       " Text(0.40069686411149824, 0.045454545454545456, 'gini = 0.0\\nsamples = 2003\\nvalue = [2003, 0]'),\n",
       " Text(0.4076655052264808, 0.045454545454545456, 'gini = 0.181\\nsamples = 318\\nvalue = [286, 32]'),\n",
       " Text(0.4337979094076655, 0.3181818181818182, 'X[27] <= 1.074\\ngini = 0.05\\nsamples = 13510\\nvalue = [13166, 344]'),\n",
       " Text(0.4250871080139373, 0.22727272727272727, 'X[0] <= 166704.57\\ngini = 0.04\\nsamples = 13238\\nvalue = [12970, 268]'),\n",
       " Text(0.4181184668989547, 0.13636363636363635, 'X[20] <= -1.557\\ngini = 0.024\\nsamples = 12468\\nvalue = [12318, 150]'),\n",
       " Text(0.4146341463414634, 0.045454545454545456, 'gini = 0.32\\nsamples = 185\\nvalue = [148, 37]'),\n",
       " Text(0.42160278745644597, 0.045454545454545456, 'gini = 0.018\\nsamples = 12283\\nvalue = [12170, 113]'),\n",
       " Text(0.43205574912891986, 0.13636363636363635, 'X[0] <= 166879.93\\ngini = 0.26\\nsamples = 770\\nvalue = [652, 118]'),\n",
       " Text(0.42857142857142855, 0.045454545454545456, 'gini = 0.22\\nsamples = 135\\nvalue = [17, 118]'),\n",
       " Text(0.4355400696864111, 0.045454545454545456, 'gini = 0.0\\nsamples = 635\\nvalue = [635, 0]'),\n",
       " Text(0.4425087108013937, 0.22727272727272727, 'X[4] <= 0.126\\ngini = 0.403\\nsamples = 272\\nvalue = [196, 76]'),\n",
       " Text(0.43902439024390244, 0.13636363636363635, 'gini = 0.0\\nsamples = 186\\nvalue = [186, 0]'),\n",
       " Text(0.445993031358885, 0.13636363636363635, 'X[23] <= 0.46\\ngini = 0.206\\nsamples = 86\\nvalue = [10, 76]'),\n",
       " Text(0.4425087108013937, 0.045454545454545456, 'gini = 0.0\\nsamples = 9\\nvalue = [9, 0]'),\n",
       " Text(0.44947735191637633, 0.045454545454545456, 'gini = 0.026\\nsamples = 77\\nvalue = [1, 76]'),\n",
       " Text(0.47038327526132406, 0.4090909090909091, 'X[3] <= 0.739\\ngini = 0.411\\nsamples = 2220\\nvalue = [1579, 641]'),\n",
       " Text(0.4634146341463415, 0.3181818181818182, 'X[4] <= -0.59\\ngini = 0.498\\nsamples = 1357\\nvalue = [717, 640]'),\n",
       " Text(0.45993031358885017, 0.22727272727272727, 'gini = 0.0\\nsamples = 368\\nvalue = [368, 0]'),\n",
       " Text(0.46689895470383275, 0.22727272727272727, 'X[7] <= -0.485\\ngini = 0.457\\nsamples = 989\\nvalue = [349, 640]'),\n",
       " Text(0.45993031358885017, 0.13636363636363635, 'X[2] <= -0.976\\ngini = 0.232\\nsamples = 605\\nvalue = [81, 524]'),\n",
       " Text(0.4564459930313589, 0.045454545454545456, 'gini = 0.0\\nsamples = 61\\nvalue = [61, 0]'),\n",
       " Text(0.4634146341463415, 0.045454545454545456, 'gini = 0.071\\nsamples = 544\\nvalue = [20, 524]'),\n",
       " Text(0.4738675958188153, 0.13636363636363635, 'X[13] <= -0.45\\ngini = 0.422\\nsamples = 384\\nvalue = [268, 116]'),\n",
       " Text(0.47038327526132406, 0.045454545454545456, 'gini = 0.469\\nsamples = 173\\nvalue = [65, 108]'),\n",
       " Text(0.47735191637630664, 0.045454545454545456, 'gini = 0.073\\nsamples = 211\\nvalue = [203, 8]'),\n",
       " Text(0.47735191637630664, 0.3181818181818182, 'X[17] <= -1.23\\ngini = 0.002\\nsamples = 863\\nvalue = [862, 1]'),\n",
       " Text(0.4738675958188153, 0.22727272727272727, 'gini = 0.32\\nsamples = 5\\nvalue = [4, 1]'),\n",
       " Text(0.4808362369337979, 0.22727272727272727, 'gini = 0.0\\nsamples = 858\\nvalue = [858, 0]'),\n",
       " Text(0.5365853658536586, 0.5, 'X[13] <= -0.26\\ngini = 0.47\\nsamples = 4801\\nvalue = [2992, 1809]'),\n",
       " Text(0.5060975609756098, 0.4090909090909091, 'X[1] <= 1.169\\ngini = 0.475\\nsamples = 2734\\nvalue = [1064, 1670]'),\n",
       " Text(0.49477351916376305, 0.3181818181818182, 'X[9] <= 0.948\\ngini = 0.393\\nsamples = 2173\\nvalue = [583, 1590]'),\n",
       " Text(0.4912891986062718, 0.22727272727272727, 'X[8] <= 0.403\\ngini = 0.318\\nsamples = 1983\\nvalue = [393, 1590]'),\n",
       " Text(0.4878048780487805, 0.13636363636363635, 'X[27] <= -0.235\\ngini = 0.278\\nsamples = 1908\\nvalue = [318, 1590]'),\n",
       " Text(0.4843205574912892, 0.045454545454545456, 'gini = 0.071\\nsamples = 54\\nvalue = [52, 2]'),\n",
       " Text(0.4912891986062718, 0.045454545454545456, 'gini = 0.246\\nsamples = 1854\\nvalue = [266, 1588]'),\n",
       " Text(0.49477351916376305, 0.13636363636363635, 'gini = 0.0\\nsamples = 75\\nvalue = [75, 0]'),\n",
       " Text(0.49825783972125437, 0.22727272727272727, 'gini = 0.0\\nsamples = 190\\nvalue = [190, 0]'),\n",
       " Text(0.5174216027874564, 0.3181818181818182, 'X[15] <= 1.471\\ngini = 0.245\\nsamples = 561\\nvalue = [481, 80]'),\n",
       " Text(0.5087108013937283, 0.22727272727272727, 'X[21] <= -0.425\\ngini = 0.119\\nsamples = 503\\nvalue = [471, 32]'),\n",
       " Text(0.5017421602787456, 0.13636363636363635, 'X[24] <= 0.471\\ngini = 0.271\\nsamples = 31\\nvalue = [5, 26]'),\n",
       " Text(0.49825783972125437, 0.045454545454545456, 'gini = 0.0\\nsamples = 5\\nvalue = [5, 0]'),\n",
       " Text(0.5052264808362369, 0.045454545454545456, 'gini = 0.0\\nsamples = 26\\nvalue = [0, 26]'),\n",
       " Text(0.5156794425087108, 0.13636363636363635, 'X[9] <= -0.42\\ngini = 0.025\\nsamples = 472\\nvalue = [466, 6]'),\n",
       " Text(0.5121951219512195, 0.045454545454545456, 'gini = 0.48\\nsamples = 5\\nvalue = [2, 3]'),\n",
       " Text(0.519163763066202, 0.045454545454545456, 'gini = 0.013\\nsamples = 467\\nvalue = [464, 3]'),\n",
       " Text(0.5261324041811847, 0.22727272727272727, 'X[26] <= -0.203\\ngini = 0.285\\nsamples = 58\\nvalue = [10, 48]'),\n",
       " Text(0.5226480836236934, 0.13636363636363635, 'gini = 0.0\\nsamples = 10\\nvalue = [10, 0]'),\n",
       " Text(0.5296167247386759, 0.13636363636363635, 'gini = 0.0\\nsamples = 48\\nvalue = [0, 48]'),\n",
       " Text(0.5670731707317073, 0.4090909090909091, 'X[26] <= 0.617\\ngini = 0.125\\nsamples = 2067\\nvalue = [1928, 139]'),\n",
       " Text(0.5522648083623694, 0.3181818181818182, 'X[0] <= 152730.711\\ngini = 0.078\\nsamples = 1843\\nvalue = [1768, 75]'),\n",
       " Text(0.5435540069686411, 0.22727272727272727, 'X[17] <= -1.154\\ngini = 0.019\\nsamples = 1585\\nvalue = [1570, 15]'),\n",
       " Text(0.5365853658536586, 0.13636363636363635, 'X[3] <= 0.132\\ngini = 0.497\\nsamples = 26\\nvalue = [12, 14]'),\n",
       " Text(0.5331010452961672, 0.045454545454545456, 'gini = 0.0\\nsamples = 14\\nvalue = [0, 14]'),\n",
       " Text(0.5400696864111498, 0.045454545454545456, 'gini = 0.0\\nsamples = 12\\nvalue = [12, 0]'),\n",
       " Text(0.5505226480836237, 0.13636363636363635, 'X[13] <= -0.256\\ngini = 0.001\\nsamples = 1559\\nvalue = [1558, 1]'),\n",
       " Text(0.5470383275261324, 0.045454545454545456, 'gini = 0.32\\nsamples = 5\\nvalue = [4, 1]'),\n",
       " Text(0.554006968641115, 0.045454545454545456, 'gini = 0.0\\nsamples = 1554\\nvalue = [1554, 0]'),\n",
       " Text(0.5609756097560976, 0.22727272727272727, 'X[16] <= 0.217\\ngini = 0.357\\nsamples = 258\\nvalue = [198, 60]'),\n",
       " Text(0.5574912891986062, 0.13636363636363635, 'gini = 0.0\\nsamples = 166\\nvalue = [166, 0]'),\n",
       " Text(0.5644599303135889, 0.13636363636363635, 'X[24] <= 0.041\\ngini = 0.454\\nsamples = 92\\nvalue = [32, 60]'),\n",
       " Text(0.5609756097560976, 0.045454545454545456, 'gini = 0.0\\nsamples = 27\\nvalue = [27, 0]'),\n",
       " Text(0.5679442508710801, 0.045454545454545456, 'gini = 0.142\\nsamples = 65\\nvalue = [5, 60]'),\n",
       " Text(0.5818815331010453, 0.3181818181818182, 'X[25] <= 0.44\\ngini = 0.408\\nsamples = 224\\nvalue = [160, 64]'),\n",
       " Text(0.5749128919860628, 0.22727272727272727, 'X[23] <= -0.684\\ngini = 0.014\\nsamples = 141\\nvalue = [140, 1]'),\n",
       " Text(0.5714285714285714, 0.13636363636363635, 'gini = 0.32\\nsamples = 5\\nvalue = [4, 1]'),\n",
       " Text(0.578397212543554, 0.13636363636363635, 'gini = 0.0\\nsamples = 136\\nvalue = [136, 0]'),\n",
       " Text(0.5888501742160279, 0.22727272727272727, 'X[3] <= 0.532\\ngini = 0.366\\nsamples = 83\\nvalue = [20, 63]'),\n",
       " Text(0.5853658536585366, 0.13636363636363635, 'X[1] <= 1.008\\ngini = 0.06\\nsamples = 65\\nvalue = [2, 63]'),\n",
       " Text(0.5818815331010453, 0.045454545454545456, 'gini = 0.48\\nsamples = 5\\nvalue = [2, 3]'),\n",
       " Text(0.5888501742160279, 0.045454545454545456, 'gini = 0.0\\nsamples = 60\\nvalue = [0, 60]'),\n",
       " Text(0.5923344947735192, 0.13636363636363635, 'gini = 0.0\\nsamples = 18\\nvalue = [18, 0]'),\n",
       " Text(0.6476480836236934, 0.5909090909090909, 'X[23] <= -9.947\\ngini = 0.027\\nsamples = 181081\\nvalue = [178574, 2507]'),\n",
       " Text(0.6289198606271778, 0.5, 'X[24] <= -0.23\\ngini = 0.23\\nsamples = 158\\nvalue = [21, 137]'),\n",
       " Text(0.6254355400696864, 0.4090909090909091, 'gini = 0.0\\nsamples = 137\\nvalue = [0, 137]'),\n",
       " Text(0.632404181184669, 0.4090909090909091, 'gini = 0.0\\nsamples = 21\\nvalue = [21, 0]'),\n",
       " Text(0.6663763066202091, 0.5, 'X[29] <= 320.151\\ngini = 0.026\\nsamples = 180923\\nvalue = [178553, 2370]'),\n",
       " Text(0.6393728222996515, 0.4090909090909091, 'X[22] <= 1.882\\ngini = 0.014\\nsamples = 170251\\nvalue = [169010, 1241]'),\n",
       " Text(0.6202090592334495, 0.3181818181818182, 'X[14] <= -0.467\\ngini = 0.012\\nsamples = 169604\\nvalue = [168557, 1047]'),\n",
       " Text(0.6062717770034843, 0.22727272727272727, 'X[4] <= 1.142\\ngini = 0.059\\nsamples = 20278\\nvalue = [19662, 616]'),\n",
       " Text(0.5993031358885017, 0.13636363636363635, 'X[8] <= -0.942\\ngini = 0.041\\nsamples = 19070\\nvalue = [18671, 399]'),\n",
       " Text(0.5958188153310104, 0.045454545454545456, 'gini = 0.267\\nsamples = 745\\nvalue = [627, 118]'),\n",
       " Text(0.6027874564459931, 0.045454545454545456, 'gini = 0.03\\nsamples = 18325\\nvalue = [18044, 281]'),\n",
       " Text(0.6132404181184669, 0.13636363636363635, 'X[20] <= -0.401\\ngini = 0.295\\nsamples = 1208\\nvalue = [991, 217]'),\n",
       " Text(0.6097560975609756, 0.045454545454545456, 'gini = 0.295\\nsamples = 195\\nvalue = [35, 160]'),\n",
       " Text(0.6167247386759582, 0.045454545454545456, 'gini = 0.106\\nsamples = 1013\\nvalue = [956, 57]'),\n",
       " Text(0.6341463414634146, 0.22727272727272727, 'X[20] <= 0.605\\ngini = 0.006\\nsamples = 149326\\nvalue = [148895, 431]'),\n",
       " Text(0.627177700348432, 0.13636363636363635, 'X[23] <= -8.974\\ngini = 0.004\\nsamples = 145015\\nvalue = [144752, 263]'),\n",
       " Text(0.6236933797909407, 0.045454545454545456, 'gini = 0.5\\nsamples = 14\\nvalue = [7, 7]'),\n",
       " Text(0.6306620209059234, 0.045454545454545456, 'gini = 0.004\\nsamples = 145001\\nvalue = [144745, 256]'),\n",
       " Text(0.6411149825783972, 0.13636363636363635, 'X[15] <= 2.068\\ngini = 0.075\\nsamples = 4311\\nvalue = [4143, 168]'),\n",
       " Text(0.6376306620209059, 0.045454545454545456, 'gini = 0.056\\nsamples = 4230\\nvalue = [4109, 121]'),\n",
       " Text(0.6445993031358885, 0.045454545454545456, 'gini = 0.487\\nsamples = 81\\nvalue = [34, 47]'),\n",
       " Text(0.6585365853658537, 0.3181818181818182, 'X[21] <= 0.825\\ngini = 0.42\\nsamples = 647\\nvalue = [453, 194]'),\n",
       " Text(0.6515679442508711, 0.22727272727272727, 'X[4] <= 1.297\\ngini = 0.04\\nsamples = 444\\nvalue = [435, 9]'),\n",
       " Text(0.6480836236933798, 0.13636363636363635, 'gini = 0.0\\nsamples = 430\\nvalue = [430, 0]'),\n",
       " Text(0.6550522648083623, 0.13636363636363635, 'X[17] <= 0.083\\ngini = 0.459\\nsamples = 14\\nvalue = [5, 9]'),\n",
       " Text(0.6515679442508711, 0.045454545454545456, 'gini = 0.0\\nsamples = 9\\nvalue = [0, 9]'),\n",
       " Text(0.6585365853658537, 0.045454545454545456, 'gini = 0.0\\nsamples = 5\\nvalue = [5, 0]'),\n",
       " Text(0.6655052264808362, 0.22727272727272727, 'X[13] <= -1.619\\ngini = 0.162\\nsamples = 203\\nvalue = [18, 185]'),\n",
       " Text(0.662020905923345, 0.13636363636363635, 'gini = 0.0\\nsamples = 185\\nvalue = [0, 185]'),\n",
       " Text(0.6689895470383276, 0.13636363636363635, 'gini = 0.0\\nsamples = 18\\nvalue = [18, 0]'),\n",
       " Text(0.6933797909407665, 0.4090909090909091, 'X[13] <= -1.262\\ngini = 0.189\\nsamples = 10672\\nvalue = [9543, 1129]'),\n",
       " Text(0.6759581881533101, 0.3181818181818182, 'X[4] <= 0.162\\ngini = 0.489\\nsamples = 1481\\nvalue = [851, 630]'),\n",
       " Text(0.6724738675958188, 0.22727272727272727, 'gini = 0.0\\nsamples = 492\\nvalue = [492, 0]'),\n",
       " Text(0.6794425087108014, 0.22727272727272727, 'X[1] <= -0.058\\ngini = 0.462\\nsamples = 989\\nvalue = [359, 630]'),\n",
       " Text(0.6759581881533101, 0.13636363636363635, 'X[17] <= 0.159\\ngini = 0.351\\nsamples = 815\\nvalue = [185, 630]'),\n",
       " Text(0.6724738675958188, 0.045454545454545456, 'gini = 0.207\\nsamples = 692\\nvalue = [81, 611]'),\n",
       " Text(0.6794425087108014, 0.045454545454545456, 'gini = 0.261\\nsamples = 123\\nvalue = [104, 19]'),\n",
       " Text(0.6829268292682927, 0.13636363636363635, 'gini = 0.0\\nsamples = 174\\nvalue = [174, 0]'),\n",
       " Text(0.710801393728223, 0.3181818181818182, 'X[20] <= 0.08\\ngini = 0.103\\nsamples = 9191\\nvalue = [8692, 499]'),\n",
       " Text(0.6968641114982579, 0.22727272727272727, 'X[16] <= -0.72\\ngini = 0.306\\nsamples = 2013\\nvalue = [1634, 379]'),\n",
       " Text(0.6898954703832753, 0.13636363636363635, 'X[18] <= 0.525\\ngini = 0.49\\nsamples = 759\\nvalue = [433, 326]'),\n",
       " Text(0.686411149825784, 0.045454545454545456, 'gini = 0.455\\nsamples = 501\\nvalue = [175, 326]'),\n",
       " Text(0.6933797909407665, 0.045454545454545456, 'gini = 0.0\\nsamples = 258\\nvalue = [258, 0]'),\n",
       " Text(0.7038327526132404, 0.13636363636363635, 'X[0] <= 166826.156\\ngini = 0.081\\nsamples = 1254\\nvalue = [1201, 53]'),\n",
       " Text(0.7003484320557491, 0.045454545454545456, 'gini = 0.0\\nsamples = 1183\\nvalue = [1183, 0]'),\n",
       " Text(0.7073170731707317, 0.045454545454545456, 'gini = 0.378\\nsamples = 71\\nvalue = [18, 53]'),\n",
       " Text(0.7247386759581882, 0.22727272727272727, 'X[13] <= -0.751\\ngini = 0.033\\nsamples = 7178\\nvalue = [7058, 120]'),\n",
       " Text(0.7177700348432056, 0.13636363636363635, 'X[26] <= -0.565\\ngini = 0.164\\nsamples = 1057\\nvalue = [962, 95]'),\n",
       " Text(0.7142857142857143, 0.045454545454545456, 'gini = 0.449\\nsamples = 203\\nvalue = [134, 69]'),\n",
       " Text(0.7212543554006968, 0.045454545454545456, 'gini = 0.059\\nsamples = 854\\nvalue = [828, 26]'),\n",
       " Text(0.7317073170731707, 0.13636363636363635, 'X[2] <= -0.014\\ngini = 0.008\\nsamples = 6121\\nvalue = [6096, 25]'),\n",
       " Text(0.7282229965156795, 0.045454545454545456, 'gini = 0.001\\nsamples = 5966\\nvalue = [5962, 4]'),\n",
       " Text(0.735191637630662, 0.045454545454545456, 'gini = 0.234\\nsamples = 155\\nvalue = [134, 21]'),\n",
       " Text(0.8710801393728222, 0.6818181818181818, 'X[12] <= -0.42\\ngini = 0.398\\nsamples = 27768\\nvalue = [20169, 7599]'),\n",
       " Text(0.789198606271777, 0.5909090909090909, 'X[14] <= -0.169\\ngini = 0.499\\nsamples = 11509\\nvalue = [6030, 5479]'),\n",
       " Text(0.7578397212543554, 0.5, 'X[3] <= 1.221\\ngini = 0.349\\nsamples = 4833\\nvalue = [1089, 3744]'),\n",
       " Text(0.7456445993031359, 0.4090909090909091, 'X[11] <= -1.453\\ngini = 0.193\\nsamples = 4183\\nvalue = [452, 3731]'),\n",
       " Text(0.7386759581881533, 0.3181818181818182, 'X[9] <= -1.653\\ngini = 0.087\\nsamples = 131\\nvalue = [125, 6]'),\n",
       " Text(0.735191637630662, 0.22727272727272727, 'gini = 0.375\\nsamples = 8\\nvalue = [2, 6]'),\n",
       " Text(0.7421602787456446, 0.22727272727272727, 'gini = 0.0\\nsamples = 123\\nvalue = [123, 0]'),\n",
       " Text(0.7526132404181185, 0.3181818181818182, 'X[17] <= 2.616\\ngini = 0.148\\nsamples = 4052\\nvalue = [327, 3725]'),\n",
       " Text(0.7491289198606271, 0.22727272727272727, 'X[6] <= 2.835\\ngini = 0.119\\nsamples = 3978\\nvalue = [253, 3725]'),\n",
       " Text(0.7456445993031359, 0.13636363636363635, 'X[1] <= 1.711\\ngini = 0.099\\nsamples = 3931\\nvalue = [206, 3725]'),\n",
       " Text(0.7421602787456446, 0.045454545454545456, 'gini = 0.083\\nsamples = 3895\\nvalue = [170, 3725]'),\n",
       " Text(0.7491289198606271, 0.045454545454545456, 'gini = 0.0\\nsamples = 36\\nvalue = [36, 0]'),\n",
       " Text(0.7526132404181185, 0.13636363636363635, 'gini = 0.0\\nsamples = 47\\nvalue = [47, 0]'),\n",
       " Text(0.7560975609756098, 0.22727272727272727, 'gini = 0.0\\nsamples = 74\\nvalue = [74, 0]'),\n",
       " Text(0.7700348432055749, 0.4090909090909091, 'X[16] <= -1.52\\ngini = 0.039\\nsamples = 650\\nvalue = [637, 13]'),\n",
       " Text(0.7665505226480837, 0.3181818181818182, 'X[7] <= -0.533\\ngini = 0.401\\nsamples = 18\\nvalue = [5, 13]'),\n",
       " Text(0.7630662020905923, 0.22727272727272727, 'gini = 0.0\\nsamples = 13\\nvalue = [0, 13]'),\n",
       " Text(0.7700348432055749, 0.22727272727272727, 'gini = 0.0\\nsamples = 5\\nvalue = [5, 0]'),\n",
       " Text(0.7735191637630662, 0.3181818181818182, 'gini = 0.0\\nsamples = 632\\nvalue = [632, 0]'),\n",
       " Text(0.8205574912891986, 0.5, 'X[12] <= -2.631\\ngini = 0.385\\nsamples = 6676\\nvalue = [4941, 1735]'),\n",
       " Text(0.7909407665505227, 0.4090909090909091, 'X[18] <= -0.045\\ngini = 0.49\\nsamples = 1824\\nvalue = [785, 1039]'),\n",
       " Text(0.7804878048780488, 0.3181818181818182, 'X[0] <= 16715.757\\ngini = 0.293\\nsamples = 1062\\nvalue = [189, 873]'),\n",
       " Text(0.7770034843205574, 0.22727272727272727, 'gini = 0.0\\nsamples = 59\\nvalue = [59, 0]'),\n",
       " Text(0.7839721254355401, 0.22727272727272727, 'X[11] <= -0.429\\ngini = 0.226\\nsamples = 1003\\nvalue = [130, 873]'),\n",
       " Text(0.7804878048780488, 0.13636363636363635, 'gini = 0.0\\nsamples = 43\\nvalue = [43, 0]'),\n",
       " Text(0.7874564459930313, 0.13636363636363635, 'X[25] <= 0.23\\ngini = 0.165\\nsamples = 960\\nvalue = [87, 873]'),\n",
       " Text(0.7839721254355401, 0.045454545454545456, 'gini = 0.11\\nsamples = 927\\nvalue = [54, 873]'),\n",
       " Text(0.7909407665505227, 0.045454545454545456, 'gini = 0.0\\nsamples = 33\\nvalue = [33, 0]'),\n",
       " Text(0.8013937282229965, 0.3181818181818182, 'X[29] <= 3.929\\ngini = 0.341\\nsamples = 762\\nvalue = [596, 166]'),\n",
       " Text(0.7979094076655052, 0.22727272727272727, 'X[29] <= 3.801\\ngini = 0.431\\nsamples = 242\\nvalue = [76, 166]'),\n",
       " Text(0.794425087108014, 0.13636363636363635, 'gini = 0.0\\nsamples = 74\\nvalue = [74, 0]'),\n",
       " Text(0.8013937282229965, 0.13636363636363635, 'X[9] <= 0.593\\ngini = 0.024\\nsamples = 168\\nvalue = [2, 166]'),\n",
       " Text(0.7979094076655052, 0.045454545454545456, 'gini = 0.48\\nsamples = 5\\nvalue = [2, 3]'),\n",
       " Text(0.8048780487804879, 0.045454545454545456, 'gini = 0.0\\nsamples = 163\\nvalue = [0, 163]'),\n",
       " Text(0.8048780487804879, 0.22727272727272727, 'gini = 0.0\\nsamples = 520\\nvalue = [520, 0]'),\n",
       " Text(0.8501742160278746, 0.4090909090909091, 'X[8] <= -0.33\\ngini = 0.246\\nsamples = 4852\\nvalue = [4156, 696]'),\n",
       " Text(0.8275261324041812, 0.3181818181818182, 'X[13] <= -0.508\\ngini = 0.493\\nsamples = 1034\\nvalue = [580, 454]'),\n",
       " Text(0.818815331010453, 0.22727272727272727, 'X[4] <= 3.682\\ngini = 0.421\\nsamples = 568\\nvalue = [171, 397]'),\n",
       " Text(0.8153310104529616, 0.13636363636363635, 'X[16] <= 0.43\\ngini = 0.342\\nsamples = 508\\nvalue = [111, 397]'),\n",
       " Text(0.8118466898954704, 0.045454545454545456, 'gini = 0.262\\nsamples = 470\\nvalue = [73, 397]'),\n",
       " Text(0.818815331010453, 0.045454545454545456, 'gini = 0.0\\nsamples = 38\\nvalue = [38, 0]'),\n",
       " Text(0.8222996515679443, 0.13636363636363635, 'gini = 0.0\\nsamples = 60\\nvalue = [60, 0]'),\n",
       " Text(0.8362369337979094, 0.22727272727272727, 'X[26] <= 0.993\\ngini = 0.215\\nsamples = 466\\nvalue = [409, 57]'),\n",
       " Text(0.8292682926829268, 0.13636363636363635, 'X[13] <= -0.437\\ngini = 0.034\\nsamples = 407\\nvalue = [400, 7]'),\n",
       " Text(0.8257839721254355, 0.045454545454545456, 'gini = 0.413\\nsamples = 24\\nvalue = [17, 7]'),\n",
       " Text(0.8327526132404182, 0.045454545454545456, 'gini = 0.0\\nsamples = 383\\nvalue = [383, 0]'),\n",
       " Text(0.8432055749128919, 0.13636363636363635, 'X[6] <= -0.421\\ngini = 0.259\\nsamples = 59\\nvalue = [9, 50]'),\n",
       " Text(0.8397212543554007, 0.045454545454545456, 'gini = 0.038\\nsamples = 51\\nvalue = [1, 50]'),\n",
       " Text(0.8466898954703833, 0.045454545454545456, 'gini = 0.0\\nsamples = 8\\nvalue = [8, 0]'),\n",
       " Text(0.872822299651568, 0.3181818181818182, 'X[26] <= 2.564\\ngini = 0.119\\nsamples = 3818\\nvalue = [3576, 242]'),\n",
       " Text(0.8641114982578397, 0.22727272727272727, 'X[4] <= 5.717\\ngini = 0.086\\nsamples = 3741\\nvalue = [3572, 169]'),\n",
       " Text(0.8571428571428571, 0.13636363636363635, 'X[19] <= -1.822\\ngini = 0.07\\nsamples = 3697\\nvalue = [3563, 134]'),\n",
       " Text(0.8536585365853658, 0.045454545454545456, 'gini = 0.39\\nsamples = 354\\nvalue = [260, 94]'),\n",
       " Text(0.8606271777003485, 0.045454545454545456, 'gini = 0.024\\nsamples = 3343\\nvalue = [3303, 40]'),\n",
       " Text(0.8710801393728222, 0.13636363636363635, 'X[0] <= 164089.367\\ngini = 0.325\\nsamples = 44\\nvalue = [9, 35]'),\n",
       " Text(0.867595818815331, 0.045454545454545456, 'gini = 0.0\\nsamples = 9\\nvalue = [9, 0]'),\n",
       " Text(0.8745644599303136, 0.045454545454545456, 'gini = 0.0\\nsamples = 35\\nvalue = [0, 35]'),\n",
       " Text(0.8815331010452961, 0.22727272727272727, 'X[22] <= 0.947\\ngini = 0.098\\nsamples = 77\\nvalue = [4, 73]'),\n",
       " Text(0.8780487804878049, 0.13636363636363635, 'gini = 0.32\\nsamples = 5\\nvalue = [4, 1]'),\n",
       " Text(0.8850174216027874, 0.13636363636363635, 'gini = 0.0\\nsamples = 72\\nvalue = [0, 72]'),\n",
       " Text(0.9529616724738676, 0.5909090909090909, 'X[23] <= 0.822\\ngini = 0.227\\nsamples = 16259\\nvalue = [14139, 2120]'),\n",
       " Text(0.9233449477351916, 0.5, 'X[14] <= -1.066\\ngini = 0.156\\nsamples = 14604\\nvalue = [13357, 1247]'),\n",
       " Text(0.9024390243902439, 0.4090909090909091, 'X[9] <= 0.235\\ngini = 0.49\\nsamples = 1244\\nvalue = [709, 535]'),\n",
       " Text(0.8989547038327527, 0.3181818181818182, 'X[3] <= 1.17\\ngini = 0.456\\nsamples = 826\\nvalue = [291, 535]'),\n",
       " Text(0.8954703832752613, 0.22727272727272727, 'X[6] <= -0.751\\ngini = 0.332\\nsamples = 677\\nvalue = [142, 535]'),\n",
       " Text(0.89198606271777, 0.13636363636363635, 'gini = 0.0\\nsamples = 54\\nvalue = [54, 0]'),\n",
       " Text(0.8989547038327527, 0.13636363636363635, 'X[11] <= -0.531\\ngini = 0.243\\nsamples = 623\\nvalue = [88, 535]'),\n",
       " Text(0.8954703832752613, 0.045454545454545456, 'gini = 0.0\\nsamples = 23\\nvalue = [23, 0]'),\n",
       " Text(0.9024390243902439, 0.045454545454545456, 'gini = 0.193\\nsamples = 600\\nvalue = [65, 535]'),\n",
       " Text(0.9024390243902439, 0.22727272727272727, 'gini = 0.0\\nsamples = 149\\nvalue = [149, 0]'),\n",
       " Text(0.9059233449477352, 0.3181818181818182, 'gini = 0.0\\nsamples = 418\\nvalue = [418, 0]'),\n",
       " Text(0.9442508710801394, 0.4090909090909091, 'X[11] <= 1.158\\ngini = 0.101\\nsamples = 13360\\nvalue = [12648, 712]'),\n",
       " Text(0.9285714285714286, 0.3181818181818182, 'X[22] <= 1.916\\ngini = 0.066\\nsamples = 12117\\nvalue = [11700, 417]'),\n",
       " Text(0.9198606271777003, 0.22727272727272727, 'X[7] <= 0.839\\ngini = 0.057\\nsamples = 12034\\nvalue = [11678, 356]'),\n",
       " Text(0.9128919860627178, 0.13636363636363635, 'X[29] <= 1.51\\ngini = 0.029\\nsamples = 10492\\nvalue = [10337, 155]'),\n",
       " Text(0.9094076655052264, 0.045454545454545456, 'gini = 0.156\\nsamples = 1245\\nvalue = [1139, 106]'),\n",
       " Text(0.9163763066202091, 0.045454545454545456, 'gini = 0.011\\nsamples = 9247\\nvalue = [9198, 49]'),\n",
       " Text(0.926829268292683, 0.13636363636363635, 'X[0] <= 142909.922\\ngini = 0.227\\nsamples = 1542\\nvalue = [1341, 201]'),\n",
       " Text(0.9233449477351916, 0.045454545454545456, 'gini = 0.036\\nsamples = 1042\\nvalue = [1023, 19]'),\n",
       " Text(0.9303135888501742, 0.045454545454545456, 'gini = 0.463\\nsamples = 500\\nvalue = [318, 182]'),\n",
       " Text(0.9372822299651568, 0.22727272727272727, 'X[5] <= 2.901\\ngini = 0.39\\nsamples = 83\\nvalue = [22, 61]'),\n",
       " Text(0.9337979094076655, 0.13636363636363635, 'gini = 0.0\\nsamples = 22\\nvalue = [22, 0]'),\n",
       " Text(0.9407665505226481, 0.13636363636363635, 'gini = 0.0\\nsamples = 61\\nvalue = [0, 61]'),\n",
       " Text(0.9599303135888502, 0.3181818181818182, 'X[25] <= 0.312\\ngini = 0.362\\nsamples = 1243\\nvalue = [948, 295]'),\n",
       " Text(0.9512195121951219, 0.22727272727272727, 'X[17] <= -1.142\\ngini = 0.008\\nsamples = 747\\nvalue = [744, 3]'),\n",
       " Text(0.9477351916376306, 0.13636363636363635, 'gini = 0.48\\nsamples = 5\\nvalue = [2, 3]'),\n",
       " Text(0.9547038327526133, 0.13636363636363635, 'gini = 0.0\\nsamples = 742\\nvalue = [742, 0]'),\n",
       " Text(0.9686411149825784, 0.22727272727272727, 'X[21] <= 0.017\\ngini = 0.484\\nsamples = 496\\nvalue = [204, 292]'),\n",
       " Text(0.9616724738675958, 0.13636363636363635, 'X[16] <= 0.139\\ngini = 0.218\\nsamples = 321\\nvalue = [40, 281]'),\n",
       " Text(0.9581881533101045, 0.045454545454545456, 'gini = 0.079\\nsamples = 293\\nvalue = [12, 281]'),\n",
       " Text(0.9651567944250871, 0.045454545454545456, 'gini = 0.0\\nsamples = 28\\nvalue = [28, 0]'),\n",
       " Text(0.975609756097561, 0.13636363636363635, 'X[17] <= -1.095\\ngini = 0.118\\nsamples = 175\\nvalue = [164, 11]'),\n",
       " Text(0.9721254355400697, 0.045454545454545456, 'gini = 0.0\\nsamples = 9\\nvalue = [0, 9]'),\n",
       " Text(0.9790940766550522, 0.045454545454545456, 'gini = 0.024\\nsamples = 166\\nvalue = [164, 2]'),\n",
       " Text(0.9825783972125436, 0.5, 'X[0] <= 164719.469\\ngini = 0.498\\nsamples = 1655\\nvalue = [782, 873]'),\n",
       " Text(0.975609756097561, 0.4090909090909091, 'X[1] <= -0.65\\ngini = 0.313\\nsamples = 948\\nvalue = [764, 184]'),\n",
       " Text(0.9721254355400697, 0.3181818181818182, 'gini = 0.0\\nsamples = 756\\nvalue = [756, 0]'),\n",
       " Text(0.9790940766550522, 0.3181818181818182, 'X[14] <= -0.425\\ngini = 0.08\\nsamples = 192\\nvalue = [8, 184]'),\n",
       " Text(0.975609756097561, 0.22727272727272727, 'gini = 0.0\\nsamples = 184\\nvalue = [0, 184]'),\n",
       " Text(0.9825783972125436, 0.22727272727272727, 'gini = 0.0\\nsamples = 8\\nvalue = [8, 0]'),\n",
       " Text(0.9895470383275261, 0.4090909090909091, 'X[19] <= 0.706\\ngini = 0.05\\nsamples = 707\\nvalue = [18, 689]'),\n",
       " Text(0.9860627177700348, 0.3181818181818182, 'gini = 0.0\\nsamples = 14\\nvalue = [14, 0]'),\n",
       " Text(0.9930313588850174, 0.3181818181818182, 'X[24] <= 0.069\\ngini = 0.011\\nsamples = 693\\nvalue = [4, 689]'),\n",
       " Text(0.9895470383275261, 0.22727272727272727, 'gini = 0.32\\nsamples = 5\\nvalue = [4, 1]'),\n",
       " Text(0.9965156794425087, 0.22727272727272727, 'gini = 0.0\\nsamples = 688\\nvalue = [0, 688]')]"
      ]
     },
     "execution_count": 13,
     "metadata": {},
     "output_type": "execute_result"
    },
    {
     "data": {
      "image/png": "[encoded data removed]",
      "text/plain": [
       "<Figure size 1152x936 with 1 Axes>"
      ]
     },
     "metadata": {
      "needs_background": "light"
     },
     "output_type": "display_data"
    }
   ],
   "source": [
    "plt.figure(figsize=(16,13))\n",
    "\n",
    "from sklearn import tree\n",
    "\n",
    "y_pred = clf_gini.predict(X_test)\n",
    "tree.plot_tree(clf_gini.fit(X_train,y_train)) "
   ]
  },
  {
   "cell_type": "code",
   "execution_count": 14,
   "id": "237dc38c",
   "metadata": {},
   "outputs": [
    {
     "name": "stdout",
     "output_type": "stream",
     "text": [
      "              precision    recall  f1-score   support\n",
      "\n",
      "           0       0.99      0.99      0.99     57261\n",
      "           1       0.99      0.99      0.99     56465\n",
      "\n",
      "    accuracy                           0.99    113726\n",
      "   macro avg       0.99      0.99      0.99    113726\n",
      "weighted avg       0.99      0.99      0.99    113726\n",
      "\n"
     ]
    }
   ],
   "source": [
    "print(classification_report(y_test, y_pred))"
   ]
  },
  {
   "cell_type": "code",
   "execution_count": 15,
   "id": "ed8055d2",
   "metadata": {},
   "outputs": [
    {
     "name": "stdout",
     "output_type": "stream",
     "text": [
      "Accuracy = 0.99\n",
      "Recall = 0.99\n",
      "\n"
     ]
    },
    {
     "data": {
      "image/png": "[encoded data removed]",
      "text/plain": [
       "<Figure size 576x432 with 2 Axes>"
      ]
     },
     "metadata": {
      "needs_background": "light"
     },
     "output_type": "display_data"
    }
   ],
   "source": [
    "# Evaluate\n",
    "print(f'Accuracy = {accuracy_score(y_test, y_pred):.2f}\\nRecall = {recall_score(y_test, y_pred):.2f}\\n')\n",
    "cm = confusion_matrix(y_test, y_pred)\n",
    "plt.figure(figsize=(8, 6))\n",
    "plt.title('Confusion Matrix (without Resampling)', size=16)\n",
    "sns.heatmap(cm, annot=True, cmap='Blues');"
   ]
  },
  {
   "cell_type": "code",
   "execution_count": 16,
   "id": "c78f457b",
   "metadata": {},
   "outputs": [
    {
     "name": "stdout",
     "output_type": "stream",
     "text": [
      "0.9967038355972784\n"
     ]
    }
   ],
   "source": [
    "# Average precision score\n",
    "y_score = clf_gini.predict_proba(X_test)[:, 1]\n",
    "average_precision = average_precision_score(y_test, y_score)\n",
    "print(average_precision)"
   ]
  },
  {
   "cell_type": "code",
   "execution_count": 17,
   "id": "290f52d4",
   "metadata": {},
   "outputs": [
    {
     "name": "stdout",
     "output_type": "stream",
     "text": [
      "0.9945611311635929\n"
     ]
    }
   ],
   "source": [
    "# Data to plot precision - recall curve\n",
    "precision, recall, thresholds = precision_recall_curve(y_test, y_score)\n",
    "# Use AUC function to calculate the area under the curve of precision recall curve\n",
    "auc_precision_recall = auc(recall, precision)\n",
    "print(auc_precision_recall)"
   ]
  },
  {
   "cell_type": "code",
   "execution_count": 18,
   "id": "5ec9f988",
   "metadata": {},
   "outputs": [
    {
     "name": "stderr",
     "output_type": "stream",
     "text": [
      "/Users/sunqiaoyubing/opt/anaconda3/lib/python3.8/site-packages/sklearn/utils/deprecation.py:87: FutureWarning: Function plot_precision_recall_curve is deprecated; Function `plot_precision_recall_curve` is deprecated in 1.0 and will be removed in 1.2. Use one of the class methods: PrecisionRecallDisplay.from_predictions or PrecisionRecallDisplay.from_estimator.\n",
      "  warnings.warn(msg, category=FutureWarning)\n"
     ]
    },
    {
     "data": {
      "text/plain": [
       "Text(0.5, 1.0, 'Binary class Precision-Recall curve: AP=1.00')"
      ]
     },
     "execution_count": 18,
     "metadata": {},
     "output_type": "execute_result"
    },
    {
     "data": {
      "image/png": "[encoded data removed]",
      "text/plain": [
       "<Figure size 432x288 with 1 Axes>"
      ]
     },
     "metadata": {
      "needs_background": "light"
     },
     "output_type": "display_data"
    }
   ],
   "source": [
    "disp = plot_precision_recall_curve(clf_gini, X_test, y_test)\n",
    "disp.ax_.set_title('Binary class Precision-Recall curve: '\n",
    "                   'AP={0:0.2f}'.format(average_precision))"
   ]
  },
  {
   "cell_type": "code",
   "execution_count": 20,
   "id": "dde22956",
   "metadata": {},
   "outputs": [
    {
     "data": {
      "text/plain": [
       "0.9823984847291326"
      ]
     },
     "execution_count": 20,
     "metadata": {},
     "output_type": "execute_result"
    }
   ],
   "source": [
    "from sklearn.metrics import matthews_corrcoef\n",
    "matthews_corrcoef(y_test, y_pred)"
   ]
  },
  {
   "cell_type": "markdown",
   "id": "2b9d05ec",
   "metadata": {},
   "source": [
    "## Random Forest All-SMOTE"
   ]
  },
  {
   "cell_type": "code",
   "execution_count": null,
   "id": "a3996850",
   "metadata": {},
   "outputs": [],
   "source": [
    "rf_clf = RandomForestClassifier()\n",
    "\n",
    "parameters = {'n_estimators': [10,20,25],\n",
    "              'max_depth': [2, 3, 5, 6, 8, 10], \n",
    "              'min_samples_split': [10, 20, 30, 50, 100],\n",
    "              'min_samples_leaf': [1, 5, 8, 10, 30]\n",
    "             }\n",
    "\n",
    "acc_scorer = make_scorer(accuracy_score)\n",
    "\n",
    "#grid search\n",
    "grid_obj = GridSearchCV(rf_clf, parameters, scoring=acc_scorer)\n",
    "grid_obj = grid_obj.fit(X_train, y_train)\n",
    "\n",
    "# Set the clf to the best combination of parameters\n",
    "rf_clf = grid_obj.best_estimator_\n",
    "\n",
    "rf_clf.fit(X_train, y_train)"
   ]
  },
  {
   "cell_type": "code",
   "execution_count": null,
   "id": "64d8bafd",
   "metadata": {},
   "outputs": [],
   "source": [
    "from sklearn.ensemble import AdaBoostClassifier\n",
    "ada = AdaBoostClassifier(base_estimator=rf_clf, n_estimators=50)\n",
    "ada.fit(Xs_train, y_train)\n",
    "y = ada.predict(Xs_test)\n",
    "accuracy_score(y, y_test)"
   ]
  },
  {
   "cell_type": "code",
   "execution_count": null,
   "id": "6a94ca39",
   "metadata": {},
   "outputs": [],
   "source": [
    "a_svm = cross_val_score(ada, X_train, y_train, cv=10)\n",
    "print a_svm,np.mean(a_svm) "
   ]
  },
  {
   "cell_type": "code",
   "execution_count": 7,
   "id": "62e847fc",
   "metadata": {},
   "outputs": [
    {
     "data": {
      "text/plain": [
       "RandomForestClassifier(max_depth=10, min_samples_leaf=5, min_samples_split=10)"
      ]
     },
     "execution_count": 7,
     "metadata": {},
     "output_type": "execute_result"
    }
   ],
   "source": [
    "#rf\n",
    "rf = RandomForestClassifier(criterion='gini', max_depth=10, min_samples_leaf=5, min_samples_split=10)\n",
    "rf.fit(X_train, y_train)"
   ]
  },
  {
   "cell_type": "code",
   "execution_count": null,
   "id": "0dd06e13",
   "metadata": {},
   "outputs": [],
   "source": [
    "print(classification_report(y_test, y_pred))"
   ]
  },
  {
   "cell_type": "code",
   "execution_count": null,
   "id": "4970a895",
   "metadata": {},
   "outputs": [],
   "source": [
    "from sklearn.metrics import roc_curve, roc_auc_score\n",
    "from matplotlib import pyplot as plt\n",
    "\n",
    "\n",
    "print roc_auc_score(y_test, y_pred[:,1])\n",
    "\n",
    "fpr, tpr, _ = roc_curve(y_test, y_pred[:,1])\n",
    "\n",
    "plt.clf()\n",
    "plot.plot(fpr, tpr)\n",
    "plt.xlabel('FPR')\n",
    "plt.ylabel('TPR')\n",
    "plt.title('ROC curve')\n",
    "plt.show()"
   ]
  },
  {
   "cell_type": "code",
   "execution_count": null,
   "id": "8f02641a",
   "metadata": {},
   "outputs": [],
   "source": [
    "# Evaluate\n",
    "print(f'Accuracy = {accuracy_score(y_test, y_pred):.2f}\\nRecall = {recall_score(y_test, y_pred):.2f}\\n')\n",
    "cm = confusion_matrix(y_test, y_pred)\n",
    "plt.figure(figsize=(8, 6))\n",
    "plt.title('Confusion Matrix (without Resampling)', size=16)\n",
    "sns.heatmap(cm, annot=True, cmap='Blues');"
   ]
  },
  {
   "cell_type": "code",
   "execution_count": null,
   "id": "58a0f5d0",
   "metadata": {},
   "outputs": [],
   "source": [
    "# Average precision score\n",
    "y_score = rf.predict_proba(X_test)[:, 1]\n",
    "average_precision = average_precision_score(y_test, y_score)\n",
    "print(average_precision)"
   ]
  },
  {
   "cell_type": "code",
   "execution_count": null,
   "id": "936e8c7f",
   "metadata": {},
   "outputs": [],
   "source": [
    "# Data to plot precision - recall curve\n",
    "precision, recall, thresholds = precision_recall_curve(y_test, y_score)\n",
    "# Use AUC function to calculate the area under the curve of precision recall curve\n",
    "auc_precision_recall = auc(recall, precision)\n",
    "print(auc_precision_recall)"
   ]
  },
  {
   "cell_type": "code",
   "execution_count": null,
   "id": "b243c9c0",
   "metadata": {},
   "outputs": [],
   "source": [
    "disp = plot_precision_recall_curve(rf, X_test, y_test)\n",
    "disp.ax_.set_title('Binary class Precision-Recall curve: '\n",
    "                   'AP={0:0.2f}'.format(average_precision))"
   ]
  },
  {
   "cell_type": "code",
   "execution_count": null,
   "id": "8bf7fe9c",
   "metadata": {},
   "outputs": [],
   "source": [
    "matthews_corrcoef(y_test, y_pred)"
   ]
  },
  {
   "cell_type": "code",
   "execution_count": null,
   "id": "6a613675",
   "metadata": {},
   "outputs": [],
   "source": []
  },
  {
   "cell_type": "markdown",
   "id": "26166454",
   "metadata": {},
   "source": [
    "## Support Vector Machine All_ROSE"
   ]
  },
  {
   "cell_type": "code",
   "execution_count": null,
   "id": "1be75128",
   "metadata": {},
   "outputs": [],
   "source": [
    "from sklearn.model_selection import GridSearchCV\n",
    "from sklearn.svm import SVC  \n",
    "\n",
    "# defining parameter range\n",
    "param_grid = {'C': [0.1, 1, 10, 100, 1000],\n",
    "              'gamma': [1, 0.1, 0.01, 0.001, 0.0001],\n",
    "              'kernel': ['rbf']}\n",
    " \n",
    "svm = GridSearchCV(SVC(), param_grid, refit = True, verbose = 3)\n",
    " \n",
    "# fitting the model for grid search\n",
    "svm.fit(X_train, y_train)"
   ]
  },
  {
   "cell_type": "code",
   "execution_count": null,
   "id": "8144a506",
   "metadata": {},
   "outputs": [],
   "source": [
    "# print best parameter after tuning\n",
    "print(grid.best_params_)\n",
    " \n",
    "# print how our model looks after hyper-parameter tuning\n",
    "print(grid.best_estimator_)"
   ]
  },
  {
   "cell_type": "code",
   "execution_count": null,
   "id": "8edfd110",
   "metadata": {},
   "outputs": [],
   "source": [
    "clf_svm = svm.SVC(kernel='rbf',c= ,gamma=)\n",
    "clf_svm.fit(X, y)"
   ]
  },
  {
   "cell_type": "code",
   "execution_count": null,
   "id": "d59ebff8",
   "metadata": {},
   "outputs": [],
   "source": [
    "grid_predictions = svc.predict(X_test)\n",
    " \n",
    "# print classification report\n",
    "print(classification_report(y_test, grid_predictions))"
   ]
  },
  {
   "cell_type": "code",
   "execution_count": null,
   "id": "490d0c46",
   "metadata": {},
   "outputs": [],
   "source": [
    "# Average precision score\n",
    "y_score = clf_gini.predict_proba(X_test)[:, 1]\n",
    "average_precision = average_precision_score(y_test, y_score)\n",
    "print(average_precision)"
   ]
  },
  {
   "cell_type": "code",
   "execution_count": null,
   "id": "aa4bd39c",
   "metadata": {},
   "outputs": [],
   "source": [
    "# Data to plot precision - recall curve\n",
    "precision, recall, thresholds = precision_recall_curve(y_test, y_score)\n",
    "# Use AUC function to calculate the area under the curve of precision recall curve\n",
    "auc_precision_recall = auc(recall, precision)\n",
    "print(auc_precision_recall)"
   ]
  },
  {
   "cell_type": "code",
   "execution_count": null,
   "id": "afdec579",
   "metadata": {},
   "outputs": [],
   "source": [
    "disp = plot_precision_recall_curve(clf_gini, X_test, y_test)\n",
    "disp.ax_.set_title('Binary class Precision-Recall curve: '\n",
    "                   'AP={0:0.2f}'.format(average_precision))"
   ]
  },
  {
   "cell_type": "code",
   "execution_count": null,
   "id": "d2de90a3",
   "metadata": {},
   "outputs": [],
   "source": [
    "matthews_corrcoef(y_test, y_pred)"
   ]
  }
 ],
 "metadata": {
  "kernelspec": {
   "display_name": "Python 3",
   "language": "python",
   "name": "python3"
  },
  "language_info": {
   "codemirror_mode": {
    "name": "ipython",
    "version": 3
   },
   "file_extension": ".py",
   "mimetype": "text/x-python",
   "name": "python",
   "nbconvert_exporter": "python",
   "pygments_lexer": "ipython3",
   "version": "3.8.8"
  }
 },
 "nbformat": 4,
 "nbformat_minor": 5
}
